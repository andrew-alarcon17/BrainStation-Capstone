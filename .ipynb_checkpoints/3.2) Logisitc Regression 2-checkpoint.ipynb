{
 "cells": [
  {
   "cell_type": "markdown",
   "id": "920210cb-c485-4821-a714-467df275aea7",
   "metadata": {},
   "source": [
    "# NLP Movie Genre Classification - Logistic Regression Modelling Part 2\n",
    "\n",
    "by Andrew Alarcon\n",
    "\n",
    "## Introduction\n",
    "\n",
    "In this notebook, I will be creating Logistic Regression models on the data set that excludes the genres `game show`, `war`, and `news`. My main focus is to create a model that reduces the dimensions of the data using PCA.\n",
    "\n",
    "## Importing the Libraries"
   ]
  },
  {
   "cell_type": "code",
   "execution_count": 42,
   "id": "2ea36fd1-20db-40a9-8fbd-a56953e96363",
   "metadata": {},
   "outputs": [],
   "source": [
    "import pandas as pd\n",
    "import numpy as np\n",
    "import matplotlib.pyplot as plt\n",
    "import seaborn as sns\n",
    "import plotly.express as px\n",
    "\n",
    "from sklearn.model_selection import train_test_split\n",
    "from sklearn.dummy import DummyClassifier\n",
    "from sklearn.multiclass import OneVsRestClassifier\n",
    "from sklearn.linear_model import LogisticRegression\n",
    "from sklearn.neighbors import KNeighborsClassifier\n",
    "from sklearn.tree import DecisionTreeClassifier\n",
    "from sklearn.ensemble import RandomForestClassifier\n",
    "from sklearn import svm\n",
    "from sklearn.model_selection import GridSearchCV\n",
    "from sklearn.pipeline import Pipeline\n",
    "\n",
    "from sklearn.model_selection import cross_val_score\n",
    "from sklearn.metrics import accuracy_score\n",
    "from sklearn.metrics import plot_confusion_matrix, confusion_matrix\n",
    "from sklearn.metrics import recall_score\n",
    "from sklearn.metrics import precision_score\n",
    "from sklearn.metrics import classification_report\n",
    "from sklearn.metrics import roc_auc_score\n",
    "\n",
    "\n",
    "from sklearn.preprocessing import MaxAbsScaler\n",
    "from sklearn.preprocessing import StandardScaler\n",
    "from sklearn.decomposition import PCA\n",
    "\n",
    "import nltk\n",
    "import re\n",
    "import time"
   ]
  },
  {
   "cell_type": "code",
   "execution_count": 25,
   "id": "d11c068b-00f7-4c33-88be-2f785af700b8",
   "metadata": {},
   "outputs": [],
   "source": [
    "X_train = pd.read_csv('data/data_new/X_train_new.csv')\n",
    "X_test = pd.read_csv('data/data_new/X_test_new.csv')\n",
    "\n",
    "y_train = pd.read_csv('data/data_new/y_train_new.csv')\n",
    "y_test = pd.read_csv('data/data_new/y_test_new.csv')"
   ]
  },
  {
   "cell_type": "code",
   "execution_count": 26,
   "id": "dc2e618f-30eb-464c-b013-64d09d087088",
   "metadata": {},
   "outputs": [],
   "source": [
    "y_train = y_train.to_numpy()\n",
    "y_test = y_test.to_numpy()\n",
    "\n",
    "# Turning 1-D column vector into an 1-D array\n",
    "y_train = y_train.ravel()\n",
    "y_test = y_test.ravel()"
   ]
  },
  {
   "cell_type": "markdown",
   "id": "799d8640-d888-4c49-a6cc-7b833a2101bb",
   "metadata": {},
   "source": [
    "## Scaling the Data"
   ]
  },
  {
   "cell_type": "code",
   "execution_count": 27,
   "id": "84c36d07-a74f-4dfc-b5e0-9acf8ae31d9c",
   "metadata": {},
   "outputs": [],
   "source": [
    "abs_scaler = MaxAbsScaler()\n",
    "abs_scaler.fit(X_train)\n",
    "\n",
    "X_train_scaled_abs = abs_scaler.transform(X_train)\n",
    "X_test_scaled_abs = abs_scaler.transform(X_test)"
   ]
  },
  {
   "cell_type": "markdown",
   "id": "d97e81b0-f241-4292-a9b6-e3d3c260b8aa",
   "metadata": {},
   "source": [
    "## Logistic Regression"
   ]
  },
  {
   "cell_type": "code",
   "execution_count": 28,
   "id": "9a8a97a4-a3cb-411e-811d-13fa04ac7dec",
   "metadata": {},
   "outputs": [
    {
     "name": "stdout",
     "output_type": "stream",
     "text": [
      "Training accuracy for PCA: 0.5150206165324955\n",
      "Testing accuracy for PCA: 0.49867478158437223\n"
     ]
    }
   ],
   "source": [
    "# Instantiate and fit\n",
    "logit = LogisticRegression(solver='liblinear', max_iter=2000, random_state=42, C=10)\n",
    "\n",
    "logit.fit(X_train_scaled_abs, y_train)\n",
    "\n",
    "# Getting accuracy scores\n",
    "logit_train = logit.score(X_train_scaled_abs, y_train)\n",
    "logit_test = logit.score(X_test_scaled_abs, y_test)\n",
    "\n",
    "print('Training accuracy for PCA:', logit_train)\n",
    "print('Testing accuracy for PCA:', logit_test)"
   ]
  },
  {
   "cell_type": "markdown",
   "id": "78210d36-6885-47cd-94e3-d46f35cadc56",
   "metadata": {},
   "source": [
    "Very interesting! With 3 genre's dropped from the dataset, the training and testing scores are equal to the optimal Logistic Regression model I had in the previous notebook. Let me now compare the performance of this model with a PCA version."
   ]
  },
  {
   "cell_type": "markdown",
   "id": "ba8fb024-2d3a-4d66-995d-31ad51813921",
   "metadata": {},
   "source": [
    "## Logistic Regression PCA"
   ]
  },
  {
   "cell_type": "code",
   "execution_count": 9,
   "id": "065ceb3f-0ceb-488c-aefc-7611cdabbfbc",
   "metadata": {},
   "outputs": [],
   "source": [
    "my_pca = PCA()\n",
    "my_pca.fit(X_train_scaled_abs)\n",
    "\n",
    "# Transform the data\n",
    "X_train_PCA = my_pca.transform(X_train_scaled_abs)\n",
    "X_test_PCA = my_pca.transform(X_test_scaled_abs)"
   ]
  },
  {
   "cell_type": "code",
   "execution_count": 10,
   "id": "bfcae50b-1e3b-4ccf-92c6-f56666a4e4bf",
   "metadata": {
    "scrolled": true,
    "tags": []
   },
   "outputs": [
    {
     "data": {
      "text/plain": [
       "array([0.01685568, 0.01123415, 0.00970635, 0.00939209, 0.0088455 ,\n",
       "       0.00828726, 0.0081248 , 0.00788164, 0.00775957, 0.0074962 ,\n",
       "       0.00740952, 0.00726999, 0.0071743 , 0.0069743 , 0.00694703,\n",
       "       0.00672485, 0.00668814, 0.00653314, 0.00647948, 0.0063001 ,\n",
       "       0.00624188, 0.0061642 , 0.00612354, 0.00605228, 0.00595323,\n",
       "       0.00590525, 0.00580943, 0.00573716, 0.0057173 , 0.00561219,\n",
       "       0.00556222, 0.00548632, 0.00544679, 0.00535782, 0.00527566,\n",
       "       0.00522488, 0.00519005, 0.00513886, 0.00511489, 0.00507517,\n",
       "       0.00505377, 0.00501766, 0.00494795, 0.00490169, 0.00485196,\n",
       "       0.00484261, 0.00481191, 0.00477971, 0.00474385, 0.00469336,\n",
       "       0.00466887, 0.00460529, 0.00459685, 0.00454878, 0.00453421,\n",
       "       0.00449014, 0.00446671, 0.00442513, 0.00442054, 0.00437175,\n",
       "       0.00436749, 0.00434226, 0.00431247, 0.00429814, 0.00426095,\n",
       "       0.00426027, 0.00420974, 0.00419309, 0.00417346, 0.00416132,\n",
       "       0.00413383, 0.00409319, 0.00407414, 0.00404546, 0.00403485,\n",
       "       0.00400187, 0.00399398, 0.00397493, 0.00394711, 0.00392629,\n",
       "       0.00389944, 0.00387774, 0.00383799, 0.00382   , 0.00380258,\n",
       "       0.00376832, 0.00375452, 0.0036998 , 0.00368715, 0.00368089,\n",
       "       0.00366451, 0.00364715, 0.0036272 , 0.00361333, 0.00359987,\n",
       "       0.00358935, 0.00356365, 0.0035514 , 0.00354377, 0.00352419,\n",
       "       0.00351466, 0.00349924, 0.00348922, 0.00347501, 0.00347017,\n",
       "       0.00345514, 0.0034352 , 0.00342734, 0.00341895, 0.00340622,\n",
       "       0.00338225, 0.00337209, 0.00336277, 0.00335168, 0.00334044,\n",
       "       0.00332879, 0.00331364, 0.00329971, 0.00328811, 0.0032826 ,\n",
       "       0.00327318, 0.00325604, 0.0032511 , 0.00323205, 0.00321865,\n",
       "       0.00321529, 0.00320557, 0.00319178, 0.00318232, 0.00317947,\n",
       "       0.00316671, 0.00315894, 0.00314489, 0.00313684, 0.00312334,\n",
       "       0.00311459, 0.00310753, 0.0030986 , 0.00309265, 0.00308639,\n",
       "       0.00307642, 0.00305823, 0.00305108, 0.00304357, 0.0030358 ,\n",
       "       0.00302075, 0.003019  , 0.00301162, 0.00299357, 0.00299166,\n",
       "       0.00298452, 0.00297465, 0.00296643, 0.00296077, 0.00294697,\n",
       "       0.00293444, 0.002925  , 0.00291756, 0.00291306, 0.00290387,\n",
       "       0.00289415, 0.00288562, 0.00287768, 0.00286994, 0.00285369,\n",
       "       0.0028501 , 0.00283902, 0.00282937, 0.00281793, 0.00280578,\n",
       "       0.00279806, 0.00278959, 0.00278256, 0.00277717, 0.00277139,\n",
       "       0.00275739, 0.0027414 , 0.002736  , 0.00273043, 0.00272616,\n",
       "       0.00271546, 0.00270769, 0.00269614, 0.0026809 , 0.0026776 ,\n",
       "       0.00266292, 0.00265765, 0.00265137, 0.0026469 , 0.00263768,\n",
       "       0.00262696, 0.00261523, 0.00261267, 0.00260623, 0.00259194,\n",
       "       0.00257909, 0.00256413, 0.00254923, 0.00254132, 0.00252649,\n",
       "       0.00251786, 0.00251196, 0.00250331, 0.00249534, 0.00248349,\n",
       "       0.00247406, 0.00246973, 0.00244897, 0.00243908, 0.00242489,\n",
       "       0.00242252, 0.00241647, 0.00241134, 0.00239918, 0.0023885 ,\n",
       "       0.00237855, 0.00237221, 0.00235692, 0.00235431, 0.00233567,\n",
       "       0.0023279 , 0.00232743, 0.00231612, 0.00230977, 0.0023029 ,\n",
       "       0.00229894, 0.00228906, 0.00228186, 0.00227357, 0.00226884,\n",
       "       0.0022608 , 0.00225607, 0.00224624, 0.00223743, 0.00223068,\n",
       "       0.00222561, 0.00221808, 0.00220543, 0.00219813, 0.00219295,\n",
       "       0.00218537, 0.00217717, 0.00216794, 0.00216327, 0.00214898,\n",
       "       0.00214142, 0.00213261, 0.00211414, 0.00210035, 0.00209526,\n",
       "       0.00207439, 0.0020607 , 0.0020561 , 0.00204824, 0.00203753,\n",
       "       0.00203477, 0.00200909, 0.00200424, 0.00198029, 0.00197483,\n",
       "       0.00195991, 0.00195611, 0.00194592, 0.00192238, 0.00191437,\n",
       "       0.00190189, 0.00187705, 0.00187275, 0.00186319, 0.00184831,\n",
       "       0.00183705, 0.00182798, 0.00181895, 0.00180597, 0.00178403,\n",
       "       0.00169624, 0.0016783 , 0.00165778, 0.00164584, 0.00163211,\n",
       "       0.0016122 ])"
      ]
     },
     "execution_count": 10,
     "metadata": {},
     "output_type": "execute_result"
    }
   ],
   "source": [
    "my_pca.explained_variance_ratio_"
   ]
  },
  {
   "cell_type": "code",
   "execution_count": 11,
   "id": "52d20377-ce92-49cf-b5cb-34c63ff0b5c1",
   "metadata": {},
   "outputs": [
    {
     "name": "stdout",
     "output_type": "stream",
     "text": [
      "Variance captured by PC1:  0.018\n",
      "Variance captured by PC2:  0.012\n",
      "Proportion of variance captured by PC1:  0.017\n",
      "Proportion of variance captured by PC2:  0.011\n"
     ]
    }
   ],
   "source": [
    "print(f\"Variance captured by PC1: {my_pca.explained_variance_[0]: 0.3f}\")\n",
    "print(f\"Variance captured by PC2: {my_pca.explained_variance_[1]: 0.3f}\")\n",
    "\n",
    "print(f\"Proportion of variance captured by PC1: {my_pca.explained_variance_ratio_[0]: 0.3f}\")\n",
    "print(f\"Proportion of variance captured by PC2: {my_pca.explained_variance_ratio_[1]: 0.3f}\")"
   ]
  },
  {
   "cell_type": "code",
   "execution_count": 12,
   "id": "e9165c84-0399-471b-8497-76893bdb201c",
   "metadata": {
    "scrolled": true,
    "tags": []
   },
   "outputs": [
    {
     "data": {
      "text/plain": [
       "array([0.01685568, 0.02808983, 0.03779618, 0.04718827, 0.05603378,\n",
       "       0.06432104, 0.07244584, 0.08032748, 0.08808705, 0.09558324,\n",
       "       0.10299276, 0.11026275, 0.11743706, 0.12441136, 0.13135839,\n",
       "       0.13808323, 0.14477137, 0.15130451, 0.157784  , 0.1640841 ,\n",
       "       0.17032597, 0.17649017, 0.18261371, 0.18866599, 0.19461922,\n",
       "       0.20052447, 0.2063339 , 0.21207106, 0.21778836, 0.22340055,\n",
       "       0.22896277, 0.2344491 , 0.23989588, 0.2452537 , 0.25052936,\n",
       "       0.25575425, 0.26094429, 0.26608315, 0.27119804, 0.27627321,\n",
       "       0.28132698, 0.28634464, 0.2912926 , 0.29619429, 0.30104625,\n",
       "       0.30588886, 0.31070077, 0.31548048, 0.32022433, 0.32491768,\n",
       "       0.32958655, 0.33419185, 0.3387887 , 0.34333748, 0.34787169,\n",
       "       0.35236183, 0.35682854, 0.36125367, 0.36567421, 0.37004596,\n",
       "       0.37441345, 0.37875571, 0.38306818, 0.38736633, 0.39162727,\n",
       "       0.39588755, 0.40009729, 0.40429038, 0.40846384, 0.41262516,\n",
       "       0.416759  , 0.42085219, 0.42492633, 0.42897178, 0.43300663,\n",
       "       0.43700851, 0.44100248, 0.44497741, 0.44892452, 0.45285081,\n",
       "       0.45675025, 0.46062798, 0.46446597, 0.46828597, 0.47208855,\n",
       "       0.47585687, 0.47961138, 0.48331118, 0.48699833, 0.49067922,\n",
       "       0.49434373, 0.49799088, 0.50161808, 0.50523141, 0.50883128,\n",
       "       0.51242063, 0.51598427, 0.51953567, 0.52307944, 0.52660364,\n",
       "       0.5301183 , 0.53361754, 0.53710676, 0.54058178, 0.54405195,\n",
       "       0.5475071 , 0.55094229, 0.55436963, 0.55778859, 0.56119481,\n",
       "       0.56457706, 0.56794915, 0.57131192, 0.5746636 , 0.57800405,\n",
       "       0.58133284, 0.58464648, 0.58794619, 0.5912343 , 0.59451691,\n",
       "       0.59779008, 0.60104612, 0.60429722, 0.60752927, 0.61074793,\n",
       "       0.61396322, 0.61716879, 0.62036056, 0.62354288, 0.62672235,\n",
       "       0.62988906, 0.633048  , 0.63619289, 0.63932973, 0.64245307,\n",
       "       0.64556766, 0.64867519, 0.65177379, 0.65486644, 0.65795283,\n",
       "       0.66102926, 0.66408749, 0.66713857, 0.67018214, 0.67321794,\n",
       "       0.67623869, 0.67925769, 0.68226932, 0.68526288, 0.68825454,\n",
       "       0.69123906, 0.69421372, 0.69718015, 0.70014092, 0.70308789,\n",
       "       0.70602233, 0.70894733, 0.71186489, 0.71477795, 0.71768182,\n",
       "       0.72057596, 0.72346158, 0.72633927, 0.72920921, 0.7320629 ,\n",
       "       0.734913  , 0.73775202, 0.74058139, 0.74339932, 0.7462051 ,\n",
       "       0.74900316, 0.75179275, 0.75457531, 0.75735248, 0.76012387,\n",
       "       0.76288127, 0.76562267, 0.76835867, 0.7710891 , 0.77381527,\n",
       "       0.77653073, 0.77923842, 0.78193456, 0.78461546, 0.78729306,\n",
       "       0.78995598, 0.79261363, 0.795265  , 0.7979119 , 0.80054958,\n",
       "       0.80317654, 0.80579177, 0.80840444, 0.81101067, 0.81360261,\n",
       "       0.81618169, 0.81874582, 0.82129505, 0.82383638, 0.82636287,\n",
       "       0.82888073, 0.83139269, 0.833896  , 0.83639134, 0.83887483,\n",
       "       0.84134889, 0.84381863, 0.84626759, 0.84870667, 0.85113157,\n",
       "       0.85355408, 0.85597055, 0.85838189, 0.86078108, 0.86316957,\n",
       "       0.86554812, 0.86792033, 0.87027725, 0.87263156, 0.87496723,\n",
       "       0.87729513, 0.87962257, 0.88193869, 0.88424846, 0.88655135,\n",
       "       0.88885029, 0.89113935, 0.89342121, 0.89569478, 0.89796362,\n",
       "       0.90022442, 0.90248049, 0.90472672, 0.90696415, 0.90919482,\n",
       "       0.91142043, 0.91363851, 0.91584394, 0.91804207, 0.92023502,\n",
       "       0.92242039, 0.92459756, 0.9267655 , 0.92892877, 0.93107775,\n",
       "       0.93321917, 0.93535178, 0.93746592, 0.93956627, 0.94166153,\n",
       "       0.94373592, 0.94579662, 0.94785272, 0.94990096, 0.95193848,\n",
       "       0.95397325, 0.95598234, 0.95798658, 0.95996687, 0.9619417 ,\n",
       "       0.96390161, 0.96585772, 0.96780364, 0.96972602, 0.97164039,\n",
       "       0.97354227, 0.97541932, 0.97729207, 0.97915525, 0.98100356,\n",
       "       0.98284061, 0.98466859, 0.98648754, 0.98829351, 0.99007753,\n",
       "       0.99177377, 0.99345207, 0.99510985, 0.99675569, 0.9983878 ,\n",
       "       1.        ])"
      ]
     },
     "execution_count": 12,
     "metadata": {},
     "output_type": "execute_result"
    }
   ],
   "source": [
    "# Pull out the explained variance ratio\n",
    "expl_var = my_pca.explained_variance_ratio_\n",
    "\n",
    "# Calculate the cumulative sum of this array\n",
    "cumulative_sum = np.cumsum(expl_var)\n",
    "\n",
    "cumulative_sum"
   ]
  },
  {
   "cell_type": "code",
   "execution_count": 13,
   "id": "3efd03b7-bb2a-4629-98de-a1d52c1b990f",
   "metadata": {},
   "outputs": [
    {
     "data": {
      "image/png": "[encoded data removed]",
      "text/plain": [
       "<Figure size 864x432 with 1 Axes>"
      ]
     },
     "metadata": {
      "needs_background": "light"
     },
     "output_type": "display_data"
    }
   ],
   "source": [
    "# Plot out the cumulative sum graph\n",
    "plt.figure(figsize=(12, 6))\n",
    "plt.plot(range(1,282), cumulative_sum) #282 because X_train has 282 columns\n",
    "plt.axhline(0.9, c='r', linestyle='--')\n",
    "plt.xlabel('Number of PCs')\n",
    "plt.ylabel('Cumulative Sum of Explained Variance')\n",
    "plt.xticks(range(1,282,10))\n",
    "plt.xticks(rotation = 90)\n",
    "plt.show()"
   ]
  },
  {
   "cell_type": "markdown",
   "id": "341d7aa2-2c33-4500-8fd1-f3969a843dac",
   "metadata": {},
   "source": [
    "I want to keep 90% of the variance, so I'll set `n_components=.9`."
   ]
  },
  {
   "cell_type": "code",
   "execution_count": 14,
   "id": "1d32b1d5-1037-4af4-b1cd-3bf49e656c39",
   "metadata": {},
   "outputs": [],
   "source": [
    "# Instantiate and fit\n",
    "my_pca = PCA(n_components = .9)\n",
    "my_pca.fit(X_train_scaled_abs)\n",
    "\n",
    "# Transform train and test\n",
    "X_train_PCA = my_pca.transform(X_train_scaled_abs)\n",
    "X_test_PCA = my_pca.transform(X_test_scaled_abs)"
   ]
  },
  {
   "cell_type": "code",
   "execution_count": 15,
   "id": "04e3823f-edf3-403a-9698-ba12dde36008",
   "metadata": {},
   "outputs": [
    {
     "name": "stdout",
     "output_type": "stream",
     "text": [
      "Original: (40744, 281)\n",
      "PCA Transformed: (40744, 231)\n"
     ]
    }
   ],
   "source": [
    "print(f'Original: {X_train_scaled_abs.shape}')\n",
    "print(f'PCA Transformed: {X_train_PCA.shape}')"
   ]
  },
  {
   "cell_type": "code",
   "execution_count": 18,
   "id": "c68cbedb-5ac1-44d8-9842-b41da24f28fa",
   "metadata": {},
   "outputs": [
    {
     "name": "stdout",
     "output_type": "stream",
     "text": [
      "Working on the model with 100.0 as a C value\r"
     ]
    }
   ],
   "source": [
    "training_scores = []\n",
    "testing_scores = []\n",
    "\n",
    "\n",
    "#values = [400, 800, 1200, 1600, 2000, 2400, 2672] Taking too long to run\n",
    "\n",
    "c_range = np.array([.001,.1,1,10,50,100])\n",
    "\n",
    "for value in c_range:\n",
    "\n",
    "    # Instantiate and fit\n",
    "    my_pca = PCA(n_components = .9)\n",
    "    my_pca.fit(X_train_scaled_abs)\n",
    "\n",
    "    # Transform train and test\n",
    "    X_train_PCA = my_pca.transform(X_train_scaled_abs)\n",
    "    X_test_PCA = my_pca.transform(X_test_scaled_abs)\n",
    "\n",
    "    print(f'Working on the model with {value} as a C value', end='\\r')\n",
    "    # Do the same but fit on the PCA transformed data\n",
    "    my_logreg_PCA = LogisticRegression(solver='lbfgs', max_iter=2000, C = value)\n",
    "\n",
    "    # Fitting to PCA data\n",
    "    my_logreg_PCA.fit(X_train_PCA, y_train) \n",
    "\n",
    "    # Scoring on PCA train and test sets\n",
    "    training_scores.append(my_logreg_PCA.score(X_train_PCA, y_train))\n",
    "    testing_scores.append(my_logreg_PCA.score(X_test_PCA, y_test))"
   ]
  },
  {
   "cell_type": "code",
   "execution_count": 19,
   "id": "1490b2a9-7bfa-491b-9a80-952e3bb5ccde",
   "metadata": {},
   "outputs": [
    {
     "data": {
      "application/vnd.plotly.v1+json": {
       "config": {
        "plotlyServerURL": "https://plot.ly"
       },
       "data": [
        {
         "hovertemplate": "variable=wide_variable_0<br>x=%{x}<br>value=%{y}<extra></extra>",
         "legendgroup": "wide_variable_0",
         "line": {
          "color": "#636efa",
          "dash": "solid"
         },
         "mode": "markers+lines",
         "name": "Training Scores",
         "orientation": "v",
         "showlegend": true,
         "type": "scatter",
         "x": [
          0.001,
          0.1,
          1,
          10,
          50,
          100
         ],
         "xaxis": "x",
         "y": [
          0.42590320047123503,
          0.4873110151187905,
          0.5078784606322403,
          0.512762615354408,
          0.5132289416846653,
          0.5135970940506578
         ],
         "yaxis": "y"
        },
        {
         "hovertemplate": "variable=wide_variable_1<br>x=%{x}<br>value=%{y}<extra></extra>",
         "legendgroup": "wide_variable_1",
         "line": {
          "color": "#EF553B",
          "dash": "solid"
         },
         "mode": "markers+lines",
         "name": "Testing Scores",
         "orientation": "v",
         "showlegend": true,
         "type": "scatter",
         "x": [
          0.001,
          0.1,
          1,
          10,
          50,
          100
         ],
         "xaxis": "x",
         "y": [
          0.42014331991754195,
          0.48316481790517324,
          0.49720231667811915,
          0.4964170020614509,
          0.4957298517718661,
          0.49533719446353197
         ],
         "yaxis": "y"
        }
       ],
       "layout": {
        "autosize": true,
        "legend": {
         "title": {
          "text": "variable"
         },
         "tracegroupgap": 0
        },
        "template": {
         "data": {
          "bar": [
           {
            "error_x": {
             "color": "#2a3f5f"
            },
            "error_y": {
             "color": "#2a3f5f"
            },
            "marker": {
             "line": {
              "color": "#E5ECF6",
              "width": 0.5
             },
             "pattern": {
              "fillmode": "overlay",
              "size": 10,
              "solidity": 0.2
             }
            },
            "type": "bar"
           }
          ],
          "barpolar": [
           {
            "marker": {
             "line": {
              "color": "#E5ECF6",
              "width": 0.5
             },
             "pattern": {
              "fillmode": "overlay",
              "size": 10,
              "solidity": 0.2
             }
            },
            "type": "barpolar"
           }
          ],
          "carpet": [
           {
            "aaxis": {
             "endlinecolor": "#2a3f5f",
             "gridcolor": "white",
             "linecolor": "white",
             "minorgridcolor": "white",
             "startlinecolor": "#2a3f5f"
            },
            "baxis": {
             "endlinecolor": "#2a3f5f",
             "gridcolor": "white",
             "linecolor": "white",
             "minorgridcolor": "white",
             "startlinecolor": "#2a3f5f"
            },
            "type": "carpet"
           }
          ],
          "choropleth": [
           {
            "colorbar": {
             "outlinewidth": 0,
             "ticks": ""
            },
            "type": "choropleth"
           }
          ],
          "contour": [
           {
            "colorbar": {
             "outlinewidth": 0,
             "ticks": ""
            },
            "colorscale": [
             [
              0,
              "#0d0887"
             ],
             [
              0.1111111111111111,
              "#46039f"
             ],
             [
              0.2222222222222222,
              "#7201a8"
             ],
             [
              0.3333333333333333,
              "#9c179e"
             ],
             [
              0.4444444444444444,
              "#bd3786"
             ],
             [
              0.5555555555555556,
              "#d8576b"
             ],
             [
              0.6666666666666666,
              "#ed7953"
             ],
             [
              0.7777777777777778,
              "#fb9f3a"
             ],
             [
              0.8888888888888888,
              "#fdca26"
             ],
             [
              1,
              "#f0f921"
             ]
            ],
            "type": "contour"
           }
          ],
          "contourcarpet": [
           {
            "colorbar": {
             "outlinewidth": 0,
             "ticks": ""
            },
            "type": "contourcarpet"
           }
          ],
          "heatmap": [
           {
            "colorbar": {
             "outlinewidth": 0,
             "ticks": ""
            },
            "colorscale": [
             [
              0,
              "#0d0887"
             ],
             [
              0.1111111111111111,
              "#46039f"
             ],
             [
              0.2222222222222222,
              "#7201a8"
             ],
             [
              0.3333333333333333,
              "#9c179e"
             ],
             [
              0.4444444444444444,
              "#bd3786"
             ],
             [
              0.5555555555555556,
              "#d8576b"
             ],
             [
              0.6666666666666666,
              "#ed7953"
             ],
             [
              0.7777777777777778,
              "#fb9f3a"
             ],
             [
              0.8888888888888888,
              "#fdca26"
             ],
             [
              1,
              "#f0f921"
             ]
            ],
            "type": "heatmap"
           }
          ],
          "heatmapgl": [
           {
            "colorbar": {
             "outlinewidth": 0,
             "ticks": ""
            },
            "colorscale": [
             [
              0,
              "#0d0887"
             ],
             [
              0.1111111111111111,
              "#46039f"
             ],
             [
              0.2222222222222222,
              "#7201a8"
             ],
             [
              0.3333333333333333,
              "#9c179e"
             ],
             [
              0.4444444444444444,
              "#bd3786"
             ],
             [
              0.5555555555555556,
              "#d8576b"
             ],
             [
              0.6666666666666666,
              "#ed7953"
             ],
             [
              0.7777777777777778,
              "#fb9f3a"
             ],
             [
              0.8888888888888888,
              "#fdca26"
             ],
             [
              1,
              "#f0f921"
             ]
            ],
            "type": "heatmapgl"
           }
          ],
          "histogram": [
           {
            "marker": {
             "pattern": {
              "fillmode": "overlay",
              "size": 10,
              "solidity": 0.2
             }
            },
            "type": "histogram"
           }
          ],
          "histogram2d": [
           {
            "colorbar": {
             "outlinewidth": 0,
             "ticks": ""
            },
            "colorscale": [
             [
              0,
              "#0d0887"
             ],
             [
              0.1111111111111111,
              "#46039f"
             ],
             [
              0.2222222222222222,
              "#7201a8"
             ],
             [
              0.3333333333333333,
              "#9c179e"
             ],
             [
              0.4444444444444444,
              "#bd3786"
             ],
             [
              0.5555555555555556,
              "#d8576b"
             ],
             [
              0.6666666666666666,
              "#ed7953"
             ],
             [
              0.7777777777777778,
              "#fb9f3a"
             ],
             [
              0.8888888888888888,
              "#fdca26"
             ],
             [
              1,
              "#f0f921"
             ]
            ],
            "type": "histogram2d"
           }
          ],
          "histogram2dcontour": [
           {
            "colorbar": {
             "outlinewidth": 0,
             "ticks": ""
            },
            "colorscale": [
             [
              0,
              "#0d0887"
             ],
             [
              0.1111111111111111,
              "#46039f"
             ],
             [
              0.2222222222222222,
              "#7201a8"
             ],
             [
              0.3333333333333333,
              "#9c179e"
             ],
             [
              0.4444444444444444,
              "#bd3786"
             ],
             [
              0.5555555555555556,
              "#d8576b"
             ],
             [
              0.6666666666666666,
              "#ed7953"
             ],
             [
              0.7777777777777778,
              "#fb9f3a"
             ],
             [
              0.8888888888888888,
              "#fdca26"
             ],
             [
              1,
              "#f0f921"
             ]
            ],
            "type": "histogram2dcontour"
           }
          ],
          "mesh3d": [
           {
            "colorbar": {
             "outlinewidth": 0,
             "ticks": ""
            },
            "type": "mesh3d"
           }
          ],
          "parcoords": [
           {
            "line": {
             "colorbar": {
              "outlinewidth": 0,
              "ticks": ""
             }
            },
            "type": "parcoords"
           }
          ],
          "pie": [
           {
            "automargin": true,
            "type": "pie"
           }
          ],
          "scatter": [
           {
            "marker": {
             "colorbar": {
              "outlinewidth": 0,
              "ticks": ""
             }
            },
            "type": "scatter"
           }
          ],
          "scatter3d": [
           {
            "line": {
             "colorbar": {
              "outlinewidth": 0,
              "ticks": ""
             }
            },
            "marker": {
             "colorbar": {
              "outlinewidth": 0,
              "ticks": ""
             }
            },
            "type": "scatter3d"
           }
          ],
          "scattercarpet": [
           {
            "marker": {
             "colorbar": {
              "outlinewidth": 0,
              "ticks": ""
             }
            },
            "type": "scattercarpet"
           }
          ],
          "scattergeo": [
           {
            "marker": {
             "colorbar": {
              "outlinewidth": 0,
              "ticks": ""
             }
            },
            "type": "scattergeo"
           }
          ],
          "scattergl": [
           {
            "marker": {
             "colorbar": {
              "outlinewidth": 0,
              "ticks": ""
             }
            },
            "type": "scattergl"
           }
          ],
          "scattermapbox": [
           {
            "marker": {
             "colorbar": {
              "outlinewidth": 0,
              "ticks": ""
             }
            },
            "type": "scattermapbox"
           }
          ],
          "scatterpolar": [
           {
            "marker": {
             "colorbar": {
              "outlinewidth": 0,
              "ticks": ""
             }
            },
            "type": "scatterpolar"
           }
          ],
          "scatterpolargl": [
           {
            "marker": {
             "colorbar": {
              "outlinewidth": 0,
              "ticks": ""
             }
            },
            "type": "scatterpolargl"
           }
          ],
          "scatterternary": [
           {
            "marker": {
             "colorbar": {
              "outlinewidth": 0,
              "ticks": ""
             }
            },
            "type": "scatterternary"
           }
          ],
          "surface": [
           {
            "colorbar": {
             "outlinewidth": 0,
             "ticks": ""
            },
            "colorscale": [
             [
              0,
              "#0d0887"
             ],
             [
              0.1111111111111111,
              "#46039f"
             ],
             [
              0.2222222222222222,
              "#7201a8"
             ],
             [
              0.3333333333333333,
              "#9c179e"
             ],
             [
              0.4444444444444444,
              "#bd3786"
             ],
             [
              0.5555555555555556,
              "#d8576b"
             ],
             [
              0.6666666666666666,
              "#ed7953"
             ],
             [
              0.7777777777777778,
              "#fb9f3a"
             ],
             [
              0.8888888888888888,
              "#fdca26"
             ],
             [
              1,
              "#f0f921"
             ]
            ],
            "type": "surface"
           }
          ],
          "table": [
           {
            "cells": {
             "fill": {
              "color": "#EBF0F8"
             },
             "line": {
              "color": "white"
             }
            },
            "header": {
             "fill": {
              "color": "#C8D4E3"
             },
             "line": {
              "color": "white"
             }
            },
            "type": "table"
           }
          ]
         },
         "layout": {
          "annotationdefaults": {
           "arrowcolor": "#2a3f5f",
           "arrowhead": 0,
           "arrowwidth": 1
          },
          "autotypenumbers": "strict",
          "coloraxis": {
           "colorbar": {
            "outlinewidth": 0,
            "ticks": ""
           }
          },
          "colorscale": {
           "diverging": [
            [
             0,
             "#8e0152"
            ],
            [
             0.1,
             "#c51b7d"
            ],
            [
             0.2,
             "#de77ae"
            ],
            [
             0.3,
             "#f1b6da"
            ],
            [
             0.4,
             "#fde0ef"
            ],
            [
             0.5,
             "#f7f7f7"
            ],
            [
             0.6,
             "#e6f5d0"
            ],
            [
             0.7,
             "#b8e186"
            ],
            [
             0.8,
             "#7fbc41"
            ],
            [
             0.9,
             "#4d9221"
            ],
            [
             1,
             "#276419"
            ]
           ],
           "sequential": [
            [
             0,
             "#0d0887"
            ],
            [
             0.1111111111111111,
             "#46039f"
            ],
            [
             0.2222222222222222,
             "#7201a8"
            ],
            [
             0.3333333333333333,
             "#9c179e"
            ],
            [
             0.4444444444444444,
             "#bd3786"
            ],
            [
             0.5555555555555556,
             "#d8576b"
            ],
            [
             0.6666666666666666,
             "#ed7953"
            ],
            [
             0.7777777777777778,
             "#fb9f3a"
            ],
            [
             0.8888888888888888,
             "#fdca26"
            ],
            [
             1,
             "#f0f921"
            ]
           ],
           "sequentialminus": [
            [
             0,
             "#0d0887"
            ],
            [
             0.1111111111111111,
             "#46039f"
            ],
            [
             0.2222222222222222,
             "#7201a8"
            ],
            [
             0.3333333333333333,
             "#9c179e"
            ],
            [
             0.4444444444444444,
             "#bd3786"
            ],
            [
             0.5555555555555556,
             "#d8576b"
            ],
            [
             0.6666666666666666,
             "#ed7953"
            ],
            [
             0.7777777777777778,
             "#fb9f3a"
            ],
            [
             0.8888888888888888,
             "#fdca26"
            ],
            [
             1,
             "#f0f921"
            ]
           ]
          },
          "colorway": [
           "#636efa",
           "#EF553B",
           "#00cc96",
           "#ab63fa",
           "#FFA15A",
           "#19d3f3",
           "#FF6692",
           "#B6E880",
           "#FF97FF",
           "#FECB52"
          ],
          "font": {
           "color": "#2a3f5f"
          },
          "geo": {
           "bgcolor": "white",
           "lakecolor": "white",
           "landcolor": "#E5ECF6",
           "showlakes": true,
           "showland": true,
           "subunitcolor": "white"
          },
          "hoverlabel": {
           "align": "left"
          },
          "hovermode": "closest",
          "mapbox": {
           "style": "light"
          },
          "paper_bgcolor": "white",
          "plot_bgcolor": "#E5ECF6",
          "polar": {
           "angularaxis": {
            "gridcolor": "white",
            "linecolor": "white",
            "ticks": ""
           },
           "bgcolor": "#E5ECF6",
           "radialaxis": {
            "gridcolor": "white",
            "linecolor": "white",
            "ticks": ""
           }
          },
          "scene": {
           "xaxis": {
            "backgroundcolor": "#E5ECF6",
            "gridcolor": "white",
            "gridwidth": 2,
            "linecolor": "white",
            "showbackground": true,
            "ticks": "",
            "zerolinecolor": "white"
           },
           "yaxis": {
            "backgroundcolor": "#E5ECF6",
            "gridcolor": "white",
            "gridwidth": 2,
            "linecolor": "white",
            "showbackground": true,
            "ticks": "",
            "zerolinecolor": "white"
           },
           "zaxis": {
            "backgroundcolor": "#E5ECF6",
            "gridcolor": "white",
            "gridwidth": 2,
            "linecolor": "white",
            "showbackground": true,
            "ticks": "",
            "zerolinecolor": "white"
           }
          },
          "shapedefaults": {
           "line": {
            "color": "#2a3f5f"
           }
          },
          "ternary": {
           "aaxis": {
            "gridcolor": "white",
            "linecolor": "white",
            "ticks": ""
           },
           "baxis": {
            "gridcolor": "white",
            "linecolor": "white",
            "ticks": ""
           },
           "bgcolor": "#E5ECF6",
           "caxis": {
            "gridcolor": "white",
            "linecolor": "white",
            "ticks": ""
           }
          },
          "title": {
           "x": 0.05
          },
          "xaxis": {
           "automargin": true,
           "gridcolor": "white",
           "linecolor": "white",
           "ticks": "",
           "title": {
            "standoff": 15
           },
           "zerolinecolor": "white",
           "zerolinewidth": 2
          },
          "yaxis": {
           "automargin": true,
           "gridcolor": "white",
           "linecolor": "white",
           "ticks": "",
           "title": {
            "standoff": 15
           },
           "zerolinecolor": "white",
           "zerolinewidth": 2
          }
         }
        },
        "title": {
         "text": "PCA Logistic Regression Performance"
        },
        "xaxis": {
         "anchor": "y",
         "autorange": true,
         "domain": [
          0,
          1
         ],
         "range": [
          -3.3111004478566852,
          2.3111004478566857
         ],
         "title": {
          "text": "Values for C"
         },
         "type": "log"
        },
        "yaxis": {
         "anchor": "x",
         "autorange": true,
         "domain": [
          0,
          1
         ],
         "range": [
          0.41243111525607123,
          0.5213092987121285
         ],
         "title": {
          "text": "Accuracy Score"
         },
         "type": "linear"
        }
       }
      },
      "image/png": "[encoded data removed]",
      "text/html": [
       "<div>                            <div id=\"fa756d4a-aabe-4717-945a-3b5930a11a00\" class=\"plotly-graph-div\" style=\"height:525px; width:100%;\"></div>            <script type=\"text/javascript\">                require([\"plotly\"], function(Plotly) {                    window.PLOTLYENV=window.PLOTLYENV || {};                                    if (document.getElementById(\"fa756d4a-aabe-4717-945a-3b5930a11a00\")) {                    Plotly.newPlot(                        \"fa756d4a-aabe-4717-945a-3b5930a11a00\",                        [{\"hovertemplate\":\"variable=wide_variable_0<br>x=%{x}<br>value=%{y}<extra></extra>\",\"legendgroup\":\"wide_variable_0\",\"line\":{\"color\":\"#636efa\",\"dash\":\"solid\"},\"mode\":\"markers+lines\",\"name\":\"Training Scores\",\"orientation\":\"v\",\"showlegend\":true,\"type\":\"scatter\",\"x\":[0.001,0.1,1.0,10.0,50.0,100.0],\"xaxis\":\"x\",\"y\":[0.42590320047123503,0.4873110151187905,0.5078784606322403,0.512762615354408,0.5132289416846653,0.5135970940506578],\"yaxis\":\"y\"},{\"hovertemplate\":\"variable=wide_variable_1<br>x=%{x}<br>value=%{y}<extra></extra>\",\"legendgroup\":\"wide_variable_1\",\"line\":{\"color\":\"#EF553B\",\"dash\":\"solid\"},\"mode\":\"markers+lines\",\"name\":\"Testing Scores\",\"orientation\":\"v\",\"showlegend\":true,\"type\":\"scatter\",\"x\":[0.001,0.1,1.0,10.0,50.0,100.0],\"xaxis\":\"x\",\"y\":[0.42014331991754195,0.48316481790517324,0.49720231667811915,0.4964170020614509,0.4957298517718661,0.49533719446353197],\"yaxis\":\"y\"}],                        {\"legend\":{\"title\":{\"text\":\"variable\"},\"tracegroupgap\":0},\"template\":{\"data\":{\"bar\":[{\"error_x\":{\"color\":\"#2a3f5f\"},\"error_y\":{\"color\":\"#2a3f5f\"},\"marker\":{\"line\":{\"color\":\"#E5ECF6\",\"width\":0.5},\"pattern\":{\"fillmode\":\"overlay\",\"size\":10,\"solidity\":0.2}},\"type\":\"bar\"}],\"barpolar\":[{\"marker\":{\"line\":{\"color\":\"#E5ECF6\",\"width\":0.5},\"pattern\":{\"fillmode\":\"overlay\",\"size\":10,\"solidity\":0.2}},\"type\":\"barpolar\"}],\"carpet\":[{\"aaxis\":{\"endlinecolor\":\"#2a3f5f\",\"gridcolor\":\"white\",\"linecolor\":\"white\",\"minorgridcolor\":\"white\",\"startlinecolor\":\"#2a3f5f\"},\"baxis\":{\"endlinecolor\":\"#2a3f5f\",\"gridcolor\":\"white\",\"linecolor\":\"white\",\"minorgridcolor\":\"white\",\"startlinecolor\":\"#2a3f5f\"},\"type\":\"carpet\"}],\"choropleth\":[{\"colorbar\":{\"outlinewidth\":0,\"ticks\":\"\"},\"type\":\"choropleth\"}],\"contour\":[{\"colorbar\":{\"outlinewidth\":0,\"ticks\":\"\"},\"colorscale\":[[0.0,\"#0d0887\"],[0.1111111111111111,\"#46039f\"],[0.2222222222222222,\"#7201a8\"],[0.3333333333333333,\"#9c179e\"],[0.4444444444444444,\"#bd3786\"],[0.5555555555555556,\"#d8576b\"],[0.6666666666666666,\"#ed7953\"],[0.7777777777777778,\"#fb9f3a\"],[0.8888888888888888,\"#fdca26\"],[1.0,\"#f0f921\"]],\"type\":\"contour\"}],\"contourcarpet\":[{\"colorbar\":{\"outlinewidth\":0,\"ticks\":\"\"},\"type\":\"contourcarpet\"}],\"heatmap\":[{\"colorbar\":{\"outlinewidth\":0,\"ticks\":\"\"},\"colorscale\":[[0.0,\"#0d0887\"],[0.1111111111111111,\"#46039f\"],[0.2222222222222222,\"#7201a8\"],[0.3333333333333333,\"#9c179e\"],[0.4444444444444444,\"#bd3786\"],[0.5555555555555556,\"#d8576b\"],[0.6666666666666666,\"#ed7953\"],[0.7777777777777778,\"#fb9f3a\"],[0.8888888888888888,\"#fdca26\"],[1.0,\"#f0f921\"]],\"type\":\"heatmap\"}],\"heatmapgl\":[{\"colorbar\":{\"outlinewidth\":0,\"ticks\":\"\"},\"colorscale\":[[0.0,\"#0d0887\"],[0.1111111111111111,\"#46039f\"],[0.2222222222222222,\"#7201a8\"],[0.3333333333333333,\"#9c179e\"],[0.4444444444444444,\"#bd3786\"],[0.5555555555555556,\"#d8576b\"],[0.6666666666666666,\"#ed7953\"],[0.7777777777777778,\"#fb9f3a\"],[0.8888888888888888,\"#fdca26\"],[1.0,\"#f0f921\"]],\"type\":\"heatmapgl\"}],\"histogram\":[{\"marker\":{\"pattern\":{\"fillmode\":\"overlay\",\"size\":10,\"solidity\":0.2}},\"type\":\"histogram\"}],\"histogram2d\":[{\"colorbar\":{\"outlinewidth\":0,\"ticks\":\"\"},\"colorscale\":[[0.0,\"#0d0887\"],[0.1111111111111111,\"#46039f\"],[0.2222222222222222,\"#7201a8\"],[0.3333333333333333,\"#9c179e\"],[0.4444444444444444,\"#bd3786\"],[0.5555555555555556,\"#d8576b\"],[0.6666666666666666,\"#ed7953\"],[0.7777777777777778,\"#fb9f3a\"],[0.8888888888888888,\"#fdca26\"],[1.0,\"#f0f921\"]],\"type\":\"histogram2d\"}],\"histogram2dcontour\":[{\"colorbar\":{\"outlinewidth\":0,\"ticks\":\"\"},\"colorscale\":[[0.0,\"#0d0887\"],[0.1111111111111111,\"#46039f\"],[0.2222222222222222,\"#7201a8\"],[0.3333333333333333,\"#9c179e\"],[0.4444444444444444,\"#bd3786\"],[0.5555555555555556,\"#d8576b\"],[0.6666666666666666,\"#ed7953\"],[0.7777777777777778,\"#fb9f3a\"],[0.8888888888888888,\"#fdca26\"],[1.0,\"#f0f921\"]],\"type\":\"histogram2dcontour\"}],\"mesh3d\":[{\"colorbar\":{\"outlinewidth\":0,\"ticks\":\"\"},\"type\":\"mesh3d\"}],\"parcoords\":[{\"line\":{\"colorbar\":{\"outlinewidth\":0,\"ticks\":\"\"}},\"type\":\"parcoords\"}],\"pie\":[{\"automargin\":true,\"type\":\"pie\"}],\"scatter\":[{\"marker\":{\"colorbar\":{\"outlinewidth\":0,\"ticks\":\"\"}},\"type\":\"scatter\"}],\"scatter3d\":[{\"line\":{\"colorbar\":{\"outlinewidth\":0,\"ticks\":\"\"}},\"marker\":{\"colorbar\":{\"outlinewidth\":0,\"ticks\":\"\"}},\"type\":\"scatter3d\"}],\"scattercarpet\":[{\"marker\":{\"colorbar\":{\"outlinewidth\":0,\"ticks\":\"\"}},\"type\":\"scattercarpet\"}],\"scattergeo\":[{\"marker\":{\"colorbar\":{\"outlinewidth\":0,\"ticks\":\"\"}},\"type\":\"scattergeo\"}],\"scattergl\":[{\"marker\":{\"colorbar\":{\"outlinewidth\":0,\"ticks\":\"\"}},\"type\":\"scattergl\"}],\"scattermapbox\":[{\"marker\":{\"colorbar\":{\"outlinewidth\":0,\"ticks\":\"\"}},\"type\":\"scattermapbox\"}],\"scatterpolar\":[{\"marker\":{\"colorbar\":{\"outlinewidth\":0,\"ticks\":\"\"}},\"type\":\"scatterpolar\"}],\"scatterpolargl\":[{\"marker\":{\"colorbar\":{\"outlinewidth\":0,\"ticks\":\"\"}},\"type\":\"scatterpolargl\"}],\"scatterternary\":[{\"marker\":{\"colorbar\":{\"outlinewidth\":0,\"ticks\":\"\"}},\"type\":\"scatterternary\"}],\"surface\":[{\"colorbar\":{\"outlinewidth\":0,\"ticks\":\"\"},\"colorscale\":[[0.0,\"#0d0887\"],[0.1111111111111111,\"#46039f\"],[0.2222222222222222,\"#7201a8\"],[0.3333333333333333,\"#9c179e\"],[0.4444444444444444,\"#bd3786\"],[0.5555555555555556,\"#d8576b\"],[0.6666666666666666,\"#ed7953\"],[0.7777777777777778,\"#fb9f3a\"],[0.8888888888888888,\"#fdca26\"],[1.0,\"#f0f921\"]],\"type\":\"surface\"}],\"table\":[{\"cells\":{\"fill\":{\"color\":\"#EBF0F8\"},\"line\":{\"color\":\"white\"}},\"header\":{\"fill\":{\"color\":\"#C8D4E3\"},\"line\":{\"color\":\"white\"}},\"type\":\"table\"}]},\"layout\":{\"annotationdefaults\":{\"arrowcolor\":\"#2a3f5f\",\"arrowhead\":0,\"arrowwidth\":1},\"autotypenumbers\":\"strict\",\"coloraxis\":{\"colorbar\":{\"outlinewidth\":0,\"ticks\":\"\"}},\"colorscale\":{\"diverging\":[[0,\"#8e0152\"],[0.1,\"#c51b7d\"],[0.2,\"#de77ae\"],[0.3,\"#f1b6da\"],[0.4,\"#fde0ef\"],[0.5,\"#f7f7f7\"],[0.6,\"#e6f5d0\"],[0.7,\"#b8e186\"],[0.8,\"#7fbc41\"],[0.9,\"#4d9221\"],[1,\"#276419\"]],\"sequential\":[[0.0,\"#0d0887\"],[0.1111111111111111,\"#46039f\"],[0.2222222222222222,\"#7201a8\"],[0.3333333333333333,\"#9c179e\"],[0.4444444444444444,\"#bd3786\"],[0.5555555555555556,\"#d8576b\"],[0.6666666666666666,\"#ed7953\"],[0.7777777777777778,\"#fb9f3a\"],[0.8888888888888888,\"#fdca26\"],[1.0,\"#f0f921\"]],\"sequentialminus\":[[0.0,\"#0d0887\"],[0.1111111111111111,\"#46039f\"],[0.2222222222222222,\"#7201a8\"],[0.3333333333333333,\"#9c179e\"],[0.4444444444444444,\"#bd3786\"],[0.5555555555555556,\"#d8576b\"],[0.6666666666666666,\"#ed7953\"],[0.7777777777777778,\"#fb9f3a\"],[0.8888888888888888,\"#fdca26\"],[1.0,\"#f0f921\"]]},\"colorway\":[\"#636efa\",\"#EF553B\",\"#00cc96\",\"#ab63fa\",\"#FFA15A\",\"#19d3f3\",\"#FF6692\",\"#B6E880\",\"#FF97FF\",\"#FECB52\"],\"font\":{\"color\":\"#2a3f5f\"},\"geo\":{\"bgcolor\":\"white\",\"lakecolor\":\"white\",\"landcolor\":\"#E5ECF6\",\"showlakes\":true,\"showland\":true,\"subunitcolor\":\"white\"},\"hoverlabel\":{\"align\":\"left\"},\"hovermode\":\"closest\",\"mapbox\":{\"style\":\"light\"},\"paper_bgcolor\":\"white\",\"plot_bgcolor\":\"#E5ECF6\",\"polar\":{\"angularaxis\":{\"gridcolor\":\"white\",\"linecolor\":\"white\",\"ticks\":\"\"},\"bgcolor\":\"#E5ECF6\",\"radialaxis\":{\"gridcolor\":\"white\",\"linecolor\":\"white\",\"ticks\":\"\"}},\"scene\":{\"xaxis\":{\"backgroundcolor\":\"#E5ECF6\",\"gridcolor\":\"white\",\"gridwidth\":2,\"linecolor\":\"white\",\"showbackground\":true,\"ticks\":\"\",\"zerolinecolor\":\"white\"},\"yaxis\":{\"backgroundcolor\":\"#E5ECF6\",\"gridcolor\":\"white\",\"gridwidth\":2,\"linecolor\":\"white\",\"showbackground\":true,\"ticks\":\"\",\"zerolinecolor\":\"white\"},\"zaxis\":{\"backgroundcolor\":\"#E5ECF6\",\"gridcolor\":\"white\",\"gridwidth\":2,\"linecolor\":\"white\",\"showbackground\":true,\"ticks\":\"\",\"zerolinecolor\":\"white\"}},\"shapedefaults\":{\"line\":{\"color\":\"#2a3f5f\"}},\"ternary\":{\"aaxis\":{\"gridcolor\":\"white\",\"linecolor\":\"white\",\"ticks\":\"\"},\"baxis\":{\"gridcolor\":\"white\",\"linecolor\":\"white\",\"ticks\":\"\"},\"bgcolor\":\"#E5ECF6\",\"caxis\":{\"gridcolor\":\"white\",\"linecolor\":\"white\",\"ticks\":\"\"}},\"title\":{\"x\":0.05},\"xaxis\":{\"automargin\":true,\"gridcolor\":\"white\",\"linecolor\":\"white\",\"ticks\":\"\",\"title\":{\"standoff\":15},\"zerolinecolor\":\"white\",\"zerolinewidth\":2},\"yaxis\":{\"automargin\":true,\"gridcolor\":\"white\",\"linecolor\":\"white\",\"ticks\":\"\",\"title\":{\"standoff\":15},\"zerolinecolor\":\"white\",\"zerolinewidth\":2}}},\"title\":{\"text\":\"PCA Logistic Regression Performance\"},\"xaxis\":{\"anchor\":\"y\",\"domain\":[0.0,1.0],\"title\":{\"text\":\"Values for C\"},\"type\":\"log\"},\"yaxis\":{\"anchor\":\"x\",\"domain\":[0.0,1.0],\"title\":{\"text\":\"Accuracy Score\"}}},                        {\"responsive\": true}                    ).then(function(){\n",
       "                            \n",
       "var gd = document.getElementById('fa756d4a-aabe-4717-945a-3b5930a11a00');\n",
       "var x = new MutationObserver(function (mutations, observer) {{\n",
       "        var display = window.getComputedStyle(gd).display;\n",
       "        if (!display || display === 'none') {{\n",
       "            console.log([gd, 'removed!']);\n",
       "            Plotly.purge(gd);\n",
       "            observer.disconnect();\n",
       "        }}\n",
       "}});\n",
       "\n",
       "// Listen for the removal of the full notebook cells\n",
       "var notebookContainer = gd.closest('#notebook-container');\n",
       "if (notebookContainer) {{\n",
       "    x.observe(notebookContainer, {childList: true});\n",
       "}}\n",
       "\n",
       "// Listen for the clearing of the current output cell\n",
       "var outputEl = gd.closest('.output');\n",
       "if (outputEl) {{\n",
       "    x.observe(outputEl, {childList: true});\n",
       "}}\n",
       "\n",
       "                        })                };                });            </script>        </div>"
      ]
     },
     "metadata": {},
     "output_type": "display_data"
    }
   ],
   "source": [
    "fig = px.line(title='PCA Logistic Regression Performance', x=c_range , y=[training_scores, testing_scores])\n",
    "\n",
    "fig.update_traces(mode='markers+lines')\n",
    "\n",
    "fig.update_xaxes(title_text=\"Values for C\", type=\"log\")\n",
    "fig.update_yaxes(title_text=\"Accuracy Score\")\n",
    "\n",
    "fig.data[0].name=\"Training Scores\"\n",
    "fig.data[1].name=\"Testing Scores\"\n",
    "fig.update_traces(mode='markers+lines', showlegend=True)\n",
    "\n",
    "fig.show()"
   ]
  },
  {
   "cell_type": "markdown",
   "id": "d2718638-29ff-4277-ad3e-b5d1b7d3f16d",
   "metadata": {},
   "source": [
    "Looking tat this chart, the gap between training and testing scores slowly increases as C increases. So, I will choose `C=1` since the score is higher than at .1, and the space between training and testing scores isn't as exaggerated as it is beyond `C=1`."
   ]
  },
  {
   "cell_type": "code",
   "execution_count": 20,
   "id": "7493f60f-6f9e-4431-b5f0-d9fc98a41096",
   "metadata": {},
   "outputs": [
    {
     "name": "stdout",
     "output_type": "stream",
     "text": [
      "Training accuracy for PCA: 0.5038778715884548\n",
      "Testing accuracy for PCA: 0.4951408658093649\n"
     ]
    }
   ],
   "source": [
    "# Instantiate and fit\n",
    "logit_pca = LogisticRegression(solver='liblinear', max_iter=2000, random_state=42, C=1)\n",
    "\n",
    "logit_pca.fit(X_train_PCA, y_train)\n",
    "\n",
    "# Getting accuracy scores\n",
    "logit_pca_train_acc = logit_pca.score(X_train_PCA, y_train)\n",
    "logit_pca_test_acc = logit_pca.score(X_test_PCA, y_test)\n",
    "\n",
    "print('Training accuracy for PCA:', logit_pca_train_acc)\n",
    "print('Testing accuracy for PCA:', logit_pca_test_acc)"
   ]
  },
  {
   "cell_type": "code",
   "execution_count": 30,
   "id": "ec3f67c0-5118-407e-ab07-8aa474a28a34",
   "metadata": {},
   "outputs": [
    {
     "name": "stdout",
     "output_type": "stream",
     "text": [
      "              precision    recall  f1-score   support\n",
      "\n",
      "      action       0.26      0.07      0.11       238\n",
      "   adventure       0.33      0.02      0.04       134\n",
      "   animation       0.00      0.00      0.00        96\n",
      "   biography       0.00      0.00      0.00        57\n",
      "      comedy       0.43      0.42      0.43      1458\n",
      "       crime       0.00      0.00      0.00        79\n",
      " documentary       0.60      0.83      0.69      2595\n",
      "       drama       0.46      0.75      0.57      2465\n",
      "      family       0.40      0.03      0.05       136\n",
      "     fantasy       0.00      0.00      0.00        47\n",
      "   game show       0.36      0.22      0.28        36\n",
      "     history       0.00      0.00      0.00        46\n",
      "      horror       0.38      0.22      0.28       407\n",
      "       music       0.60      0.30      0.40       149\n",
      "     musical       0.00      0.00      0.00        58\n",
      "     mystery       0.00      0.00      0.00        54\n",
      "        news       0.00      0.00      0.00        28\n",
      "  reality tv       0.32      0.05      0.09       188\n",
      "     romance       1.00      0.01      0.02       122\n",
      "      sci fi       0.17      0.02      0.03       104\n",
      "       short       0.38      0.18      0.25      1021\n",
      "       sport       0.50      0.03      0.07        86\n",
      "   talk show       0.00      0.00      0.00        67\n",
      "    thriller       0.21      0.02      0.03       280\n",
      "         war       0.00      0.00      0.00        34\n",
      "     western       0.51      0.29      0.37       202\n",
      "\n",
      "    accuracy                           0.50     10187\n",
      "   macro avg       0.27      0.13      0.14     10187\n",
      "weighted avg       0.44      0.50      0.43     10187\n",
      "\n"
     ]
    },
    {
     "name": "stderr",
     "output_type": "stream",
     "text": [
      "/Users/andrewalarcon/opt/anaconda3/envs/plotly_bokeh2/lib/python3.8/site-packages/sklearn/metrics/_classification.py:1245: UndefinedMetricWarning:\n",
      "\n",
      "Precision and F-score are ill-defined and being set to 0.0 in labels with no predicted samples. Use `zero_division` parameter to control this behavior.\n",
      "\n",
      "/Users/andrewalarcon/opt/anaconda3/envs/plotly_bokeh2/lib/python3.8/site-packages/sklearn/metrics/_classification.py:1245: UndefinedMetricWarning:\n",
      "\n",
      "Precision and F-score are ill-defined and being set to 0.0 in labels with no predicted samples. Use `zero_division` parameter to control this behavior.\n",
      "\n",
      "/Users/andrewalarcon/opt/anaconda3/envs/plotly_bokeh2/lib/python3.8/site-packages/sklearn/metrics/_classification.py:1245: UndefinedMetricWarning:\n",
      "\n",
      "Precision and F-score are ill-defined and being set to 0.0 in labels with no predicted samples. Use `zero_division` parameter to control this behavior.\n",
      "\n"
     ]
    }
   ],
   "source": [
    "y_pred = logit_pca.predict(X_test_PCA)\n",
    "\n",
    "print(classification_report(y_test, y_pred))"
   ]
  },
  {
   "cell_type": "code",
   "execution_count": 29,
   "id": "2241e80b-994b-436f-9d66-49696bc3900e",
   "metadata": {},
   "outputs": [
    {
     "data": {
      "image/png": "[encoded data removed]",
      "text/plain": [
       "<Figure size 1296x864 with 2 Axes>"
      ]
     },
     "metadata": {
      "needs_background": "light"
     },
     "output_type": "display_data"
    }
   ],
   "source": [
    "fig, ax = plt.subplots(figsize=(18, 12))\n",
    "plot_confusion_matrix(logit_pca, X_test_PCA, y_test, cmap='viridis', ax=ax, xticks_rotation=55, include_values=False);"
   ]
  },
  {
   "cell_type": "markdown",
   "id": "e94ae76c-3eba-427b-9ff5-6f1cc09da587",
   "metadata": {},
   "source": [
    "This model had a training accuracy of 50.4%, and a testing accuracy of 49.5%. Even after using less data, and reducing the dimensions of it, the accuracy scores are still very close to the PCA model we had in the previous notebook. Even though this model is technically performing worse in accuracy (the previous PCA model's training was 50.8% and testing was 49.7%), it is still very interesting to see such close accuracy scores when using much less information. \n",
    "\n",
    "As for precision and recall, much of the behavior is similar as well. Looking at `documentary`, the precision is .60, recall was .83, and the F1 score was .69. Here the recall actuall improved by .02! However, the recall and F1 score decreased by .01.\n",
    "\n",
    "Taking a look at another genre, `drama` improved in its recall score by .01, landing at .75. However, the precision and F1 score remained the same at .46, and .57 respectively."
   ]
  },
  {
   "cell_type": "markdown",
   "id": "1697820a-b1c1-4504-9639-c2c74093d9ab",
   "metadata": {},
   "source": [
    "## Conclusion\n",
    "\n",
    "In this notebook, I wanted to see how the performance of Logistic Regression would change when using a dataset that had genres with not enough information dropped. The reason for dropping this information was because it might not have had enough information for the model to efficiently learn from.\n",
    "\n",
    "After running this data on a PCA Logistic Regression model, the performance in accuracy was less than the previous PCA model, altough very close. Similar results are present in the classification report, where many values are close to the values present in the previous PCA model.\n",
    "\n",
    "In the next notebook, I will be running a Random Forest Classifier on the data and measuring its performance.\n"
   ]
  }
 ],
 "metadata": {
  "kernelspec": {
   "display_name": "plotly_bokeh2",
   "language": "python",
   "name": "plotly_bokeh2"
  },
  "language_info": {
   "codemirror_mode": {
    "name": "ipython",
    "version": 3
   },
   "file_extension": ".py",
   "mimetype": "text/x-python",
   "name": "python",
   "nbconvert_exporter": "python",
   "pygments_lexer": "ipython3",
   "version": "3.8.12"
  }
 },
 "nbformat": 4,
 "nbformat_minor": 5
}
