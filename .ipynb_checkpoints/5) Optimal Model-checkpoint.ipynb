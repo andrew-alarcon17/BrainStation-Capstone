{
 "cells": [
  {
   "cell_type": "markdown",
   "id": "38d3232d-466b-44e3-bb48-da99dfc09416",
   "metadata": {},
   "source": [
    "# NLP Movie Genre Classification - Pickling the Best Model\n",
    "\n",
    "by Andrew Alarcon\n",
    "\n",
    "## Introduction\n",
    "\n",
    "In this final notebook, I will be re-creating the best performing Logistic Regression model from notebook 3.1 and exporting the model using pickle.\n",
    "\n",
    "## Importing the Libraries"
   ]
  },
  {
   "cell_type": "code",
   "execution_count": 9,
   "id": "0d77e4f3-7b1d-44f5-81d2-d15f634c7fb7",
   "metadata": {},
   "outputs": [],
   "source": [
    "import pandas as pd\n",
    "import numpy as np\n",
    "import joblib\n",
    "\n",
    "from sklearn.model_selection import train_test_split\n",
    "from sklearn.linear_model import LogisticRegression\n",
    "from sklearn.preprocessing import MaxAbsScaler\n",
    "from sklearn.metrics import accuracy_score\n"
   ]
  },
  {
   "cell_type": "markdown",
   "id": "a1c3b499-5a72-4220-b206-19fb7df6ed55",
   "metadata": {},
   "source": [
    "## Loading in the Data"
   ]
  },
  {
   "cell_type": "code",
   "execution_count": 2,
   "id": "0713008e-03ec-4c97-9f65-a9a23f4ea5d6",
   "metadata": {},
   "outputs": [],
   "source": [
    "X_train = pd.read_csv('data/X_train.csv')\n",
    "X_test = pd.read_csv('data/X_test.csv')\n",
    "\n",
    "y_train = pd.read_csv('data/y_train.csv')\n",
    "y_test = pd.read_csv('data/y_test.csv')"
   ]
  },
  {
   "cell_type": "code",
   "execution_count": 5,
   "id": "f0490e3b-d6a4-4edf-b340-c5d2f9cac011",
   "metadata": {},
   "outputs": [],
   "source": [
    "y_train = y_train.to_numpy()\n",
    "y_test = y_test.to_numpy()\n",
    "\n",
    "y_train = y_train.ravel()\n",
    "y_test = y_test.ravel()"
   ]
  },
  {
   "cell_type": "markdown",
   "id": "6a4d0b12-f044-42c5-8fa2-2ccfd17e6fe8",
   "metadata": {},
   "source": [
    "## Scaling the Data"
   ]
  },
  {
   "cell_type": "code",
   "execution_count": 3,
   "id": "1735f6be-d227-4181-bd99-f6b00650a2a2",
   "metadata": {},
   "outputs": [],
   "source": [
    "abs_scaler = MaxAbsScaler()\n",
    "abs_scaler.fit(X_train)\n",
    "\n",
    "X_train_scaled_abs = abs_scaler.transform(X_train)\n",
    "X_test_scaled_abs = abs_scaler.transform(X_test)"
   ]
  },
  {
   "cell_type": "code",
   "execution_count": 7,
   "id": "52153fa7-72bb-49b3-aa82-633454ec82b4",
   "metadata": {},
   "outputs": [
    {
     "name": "stdout",
     "output_type": "stream",
     "text": [
      "Logistic Regression accuracy on the training set = 0.5150206165324955\n",
      "Logistic Regression accuracy on the testing set = 0.49867478158437223\n"
     ]
    }
   ],
   "source": [
    "# Instantiate model\n",
    "log_reg = LogisticRegression(solver='liblinear', C=10, max_iter=2000, random_state=42)\n",
    "\n",
    "# Fit the model\n",
    "result = log_reg.fit(X_train_scaled_abs, y_train)\n",
    "\n",
    "# Predict on the model\n",
    "y_pred_train = log_reg.predict(X_train_scaled_abs)\n",
    "y_pred_test = log_reg.predict(X_test_scaled_abs)\n",
    "\n",
    "# Get the accuracy on the training and testing sets\n",
    "preds_acc_train = accuracy_score(y_train, y_pred_train)\n",
    "preds_acc_test = accuracy_score(y_test, y_pred_test)\n",
    "\n",
    "print(f'Logistic Regression accuracy on the training set = {preds_acc_train}')\n",
    "print(f'Logistic Regression accuracy on the testing set = {preds_acc_test}')"
   ]
  },
  {
   "cell_type": "code",
   "execution_count": 10,
   "id": "79750b99-5f69-4f96-83ef-e42c6681a2e1",
   "metadata": {},
   "outputs": [
    {
     "data": {
      "text/plain": [
       "['models/best_model.pkl']"
      ]
     },
     "execution_count": 10,
     "metadata": {},
     "output_type": "execute_result"
    }
   ],
   "source": [
    "joblib.dump(log_reg, 'models/best_model.pkl')"
   ]
  },
  {
   "cell_type": "markdown",
   "id": "54e39dbf-1029-4e05-b4ae-f280bc762dbb",
   "metadata": {},
   "source": [
    "## Conclusion\n",
    "\n",
    "I have successfully saved my best performing Logistic Regression model! \n",
    "\n",
    "There are a few possible next steps after this project is finished. One would be to deploy this model onto a web app that allows anyone to enter a movie/show description and have it classified using this Logistic Regression model.\n",
    "\n",
    "Another possible step would be to create an **even better** model using Recurrent Nueral Networks via GPT3 and OpenAI. This model would then be used for production on a web app like how I mentioned previously.\n"
   ]
  }
 ],
 "metadata": {
  "kernelspec": {
   "display_name": "plotly_bokeh2",
   "language": "python",
   "name": "plotly_bokeh2"
  },
  "language_info": {
   "codemirror_mode": {
    "name": "ipython",
    "version": 3
   },
   "file_extension": ".py",
   "mimetype": "text/x-python",
   "name": "python",
   "nbconvert_exporter": "python",
   "pygments_lexer": "ipython3",
   "version": "3.8.12"
  }
 },
 "nbformat": 4,
 "nbformat_minor": 5
}
