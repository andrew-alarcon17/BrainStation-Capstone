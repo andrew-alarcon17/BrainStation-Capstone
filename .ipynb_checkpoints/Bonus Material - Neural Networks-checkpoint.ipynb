{
 "cells": [
  {
   "cell_type": "markdown",
   "id": "0972647e-8cf9-46d5-a037-9de67ca4591b",
   "metadata": {},
   "source": [
    "# NLP Movie Genre Classification - Neural Networks"
   ]
  },
  {
   "cell_type": "markdown",
   "id": "769b389d-0622-4e1c-a2ba-3a85aa788b20",
   "metadata": {},
   "source": [
    "TODO: Remove any punctuation"
   ]
  },
  {
   "cell_type": "code",
   "execution_count": 25,
   "id": "052b5ae3-457e-4a9f-89d3-34bae9403975",
   "metadata": {},
   "outputs": [],
   "source": [
    "#using the deeplearning environment\n",
    "import pandas as pd\n",
    "import numpy as np\n",
    "import matplotlib.pyplot as plt\n",
    "import seaborn as sns\n",
    "\n",
    "from sklearn.preprocessing import MaxAbsScaler\n",
    "from sklearn.decomposition import PCA\n",
    "\n",
    "import tensorflow as tf\n",
    "from tensorflow import keras\n",
    "from tensorflow.keras import layers\n",
    "\n",
    "from tensorflow.keras.layers import Dense, Dropout, Embedding, LSTM, GRU, BatchNormalization, SpatialDropout1D\n",
    "from tensorflow.keras.optimizers import Adam\n",
    "from tensorflow.keras.preprocessing.text import Tokenizer\n",
    "from tensorflow.keras.preprocessing.sequence import pad_sequences\n",
    "from tensorflow.keras.callbacks import EarlyStopping\n",
    "\n",
    "from sklearn.model_selection import train_test_split\n"
   ]
  },
  {
   "cell_type": "code",
   "execution_count": 5,
   "id": "6e81a185-73ae-4962-b757-02dc169fcc97",
   "metadata": {},
   "outputs": [],
   "source": [
    "df = pd.read_csv('data/clean_data.csv')"
   ]
  },
  {
   "cell_type": "code",
   "execution_count": 6,
   "id": "425c3b45-a623-4eb8-83d0-3bfd5f18fe69",
   "metadata": {},
   "outputs": [],
   "source": [
    "X_train = pd.read_csv('data/X_train.csv')\n",
    "X_test = pd.read_csv('data/X_test.csv')\n",
    "\n",
    "y_train = pd.read_csv('data/y_train.csv')\n",
    "y_test = pd.read_csv('data/y_test.csv')\n",
    "\n",
    "y_train_enc = pd.read_csv('data/y_train_enc.csv')\n",
    "y_test_enc = pd.read_csv('data/y_test_enc.csv')"
   ]
  },
  {
   "cell_type": "code",
   "execution_count": 7,
   "id": "f2a1a58a-ac98-4ad1-af33-599a1b9d5982",
   "metadata": {},
   "outputs": [],
   "source": [
    "abs_scaler = MaxAbsScaler()\n",
    "abs_scaler.fit(X_train)\n",
    "\n",
    "X_train_scaled_abs = abs_scaler.transform(X_train)\n",
    "X_test_scaled_abs = abs_scaler.transform(X_test)"
   ]
  },
  {
   "cell_type": "code",
   "execution_count": 8,
   "id": "52257b37-bd32-4fe4-a858-70203c8cf1fe",
   "metadata": {},
   "outputs": [],
   "source": [
    "X_train_scaled_abs = np.array(X_train_scaled_abs, dtype=np.float32)\n",
    "X_test_scaled_abs = np.array(X_test_scaled_abs, dtype=np.float32)"
   ]
  },
  {
   "cell_type": "markdown",
   "id": "300e23fa-baa2-46e0-a07d-808f5394800b",
   "metadata": {
    "tags": []
   },
   "source": [
    "### Baseline Neural Network Model\n",
    "\n",
    "Below, I will build the baseline Neural Network model and measure its performance. I am using softmax as the last layer of the network because the nature of the problem is a multiclass classification problem. More specifically, softmax allows the ability to return the probability of each class.\n",
    "\n",
    "The loss function is set to `categorical_crossentropy` because again, I am working with a mutlticlass classification problem.\n"
   ]
  },
  {
   "cell_type": "code",
   "execution_count": 9,
   "id": "02fc8b2d-33a1-47fe-aa9b-932e159b99a8",
   "metadata": {},
   "outputs": [
    {
     "name": "stderr",
     "output_type": "stream",
     "text": [
      "2022-03-30 16:55:24.972183: I tensorflow/core/platform/cpu_feature_guard.cc:143] Your CPU supports instructions that this TensorFlow binary was not compiled to use: AVX2 FMA\n",
      "2022-03-30 16:55:24.991722: I tensorflow/compiler/xla/service/service.cc:168] XLA service 0x7fedcc09f160 initialized for platform Host (this does not guarantee that XLA will be used). Devices:\n",
      "2022-03-30 16:55:24.991736: I tensorflow/compiler/xla/service/service.cc:176]   StreamExecutor device (0): Host, Default Version\n"
     ]
    }
   ],
   "source": [
    "# BASELINE CNN MODEL\n",
    "model = keras.Sequential()\n",
    "\n",
    "model.add(Dense(281, activation='relu')) #281 neurons, one for each feature\n",
    "model.add(Dense(4, activation='relu')) #compress to 4 neuron layer\n",
    "model.add(Dense(26, activation='softmax')) #26 neurons to match # of classes\n",
    "\n",
    "model.compile(optimizer='adam', loss='categorical_crossentropy', metrics=['accuracy'])\n"
   ]
  },
  {
   "cell_type": "code",
   "execution_count": 10,
   "id": "a7c112a5-1485-4137-b013-eafc08eef881",
   "metadata": {
    "scrolled": true,
    "tags": []
   },
   "outputs": [
    {
     "name": "stdout",
     "output_type": "stream",
     "text": [
      "Epoch 1/40\n",
      "3260/3260 [==============================] - 3s 990us/step - loss: 1.9872 - accuracy: 0.4298 - val_loss: 1.8870 - val_accuracy: 0.4583\n",
      "Epoch 2/40\n",
      "3260/3260 [==============================] - 3s 1ms/step - loss: 1.8579 - accuracy: 0.4609 - val_loss: 1.8555 - val_accuracy: 0.4659\n",
      "Epoch 3/40\n",
      "3260/3260 [==============================] - 3s 993us/step - loss: 1.8210 - accuracy: 0.4689 - val_loss: 1.8446 - val_accuracy: 0.4630\n",
      "Epoch 4/40\n",
      "3260/3260 [==============================] - 3s 965us/step - loss: 1.7833 - accuracy: 0.4790 - val_loss: 1.8388 - val_accuracy: 0.4640\n",
      "Epoch 5/40\n",
      "3260/3260 [==============================] - 3s 961us/step - loss: 1.7452 - accuracy: 0.4888 - val_loss: 1.8272 - val_accuracy: 0.4662\n",
      "Epoch 6/40\n",
      "3260/3260 [==============================] - 3s 1ms/step - loss: 1.7003 - accuracy: 0.5004 - val_loss: 1.8460 - val_accuracy: 0.4650\n",
      "Epoch 7/40\n",
      "3260/3260 [==============================] - 3s 968us/step - loss: 1.6468 - accuracy: 0.5148 - val_loss: 1.8531 - val_accuracy: 0.4590\n",
      "Epoch 8/40\n",
      "3260/3260 [==============================] - 3s 940us/step - loss: 1.5864 - accuracy: 0.5334 - val_loss: 1.8894 - val_accuracy: 0.4577\n",
      "Epoch 9/40\n",
      "3260/3260 [==============================] - 3s 988us/step - loss: 1.5203 - accuracy: 0.5530 - val_loss: 1.9453 - val_accuracy: 0.4494\n",
      "Epoch 10/40\n",
      "3260/3260 [==============================] - 3s 956us/step - loss: 1.4517 - accuracy: 0.5697 - val_loss: 1.9889 - val_accuracy: 0.4425\n",
      "Epoch 11/40\n",
      "3260/3260 [==============================] - 3s 970us/step - loss: 1.3826 - accuracy: 0.5914 - val_loss: 2.0583 - val_accuracy: 0.4434\n",
      "Epoch 12/40\n",
      "3260/3260 [==============================] - 3s 990us/step - loss: 1.3059 - accuracy: 0.6125 - val_loss: 2.1295 - val_accuracy: 0.4410\n",
      "Epoch 13/40\n",
      "3260/3260 [==============================] - 3s 983us/step - loss: 1.2251 - accuracy: 0.6364 - val_loss: 2.2223 - val_accuracy: 0.4270\n",
      "Epoch 14/40\n",
      "3260/3260 [==============================] - 3s 994us/step - loss: 1.1529 - accuracy: 0.6575 - val_loss: 2.3533 - val_accuracy: 0.4240\n",
      "Epoch 15/40\n",
      "3260/3260 [==============================] - 3s 983us/step - loss: 1.0926 - accuracy: 0.6725 - val_loss: 2.4606 - val_accuracy: 0.4242\n",
      "Epoch 16/40\n",
      "3260/3260 [==============================] - 3s 996us/step - loss: 1.0324 - accuracy: 0.6927 - val_loss: 2.6089 - val_accuracy: 0.4104\n",
      "Epoch 17/40\n",
      "3260/3260 [==============================] - 3s 991us/step - loss: 0.9780 - accuracy: 0.7059 - val_loss: 2.7297 - val_accuracy: 0.4118\n",
      "Epoch 18/40\n",
      "3260/3260 [==============================] - 3s 987us/step - loss: 0.9227 - accuracy: 0.7242 - val_loss: 2.8841 - val_accuracy: 0.4138\n",
      "Epoch 19/40\n",
      "3260/3260 [==============================] - 3s 1ms/step - loss: 0.8723 - accuracy: 0.7372 - val_loss: 3.0166 - val_accuracy: 0.4029\n",
      "Epoch 20/40\n",
      "3260/3260 [==============================] - 3s 1ms/step - loss: 0.8244 - accuracy: 0.7493 - val_loss: 3.1959 - val_accuracy: 0.3970\n",
      "Epoch 21/40\n",
      "3260/3260 [==============================] - 3s 1ms/step - loss: 0.7804 - accuracy: 0.7634 - val_loss: 3.4031 - val_accuracy: 0.3896\n",
      "Epoch 22/40\n",
      "3260/3260 [==============================] - 3s 1ms/step - loss: 0.7378 - accuracy: 0.7754 - val_loss: 3.5673 - val_accuracy: 0.3959\n",
      "Epoch 23/40\n",
      "3260/3260 [==============================] - 3s 992us/step - loss: 0.7027 - accuracy: 0.7860 - val_loss: 3.7416 - val_accuracy: 0.3919\n",
      "Epoch 24/40\n",
      "3260/3260 [==============================] - 3s 1ms/step - loss: 0.6612 - accuracy: 0.7987 - val_loss: 3.9687 - val_accuracy: 0.3878\n",
      "Epoch 25/40\n",
      "3260/3260 [==============================] - 3s 1ms/step - loss: 0.6308 - accuracy: 0.8056 - val_loss: 4.1567 - val_accuracy: 0.3864\n",
      "Epoch 26/40\n",
      "3260/3260 [==============================] - 4s 1ms/step - loss: 0.5939 - accuracy: 0.8170 - val_loss: 4.3584 - val_accuracy: 0.3707\n",
      "Epoch 27/40\n",
      "3260/3260 [==============================] - 4s 1ms/step - loss: 0.5649 - accuracy: 0.8260 - val_loss: 4.6665 - val_accuracy: 0.3699\n",
      "Epoch 28/40\n",
      "3260/3260 [==============================] - 4s 1ms/step - loss: 0.5362 - accuracy: 0.8332 - val_loss: 4.7901 - val_accuracy: 0.3862\n",
      "Epoch 29/40\n",
      "3260/3260 [==============================] - 4s 1ms/step - loss: 0.5156 - accuracy: 0.8396 - val_loss: 4.9797 - val_accuracy: 0.3705\n",
      "Epoch 30/40\n",
      "3260/3260 [==============================] - 3s 1ms/step - loss: 0.4862 - accuracy: 0.8494 - val_loss: 5.2462 - val_accuracy: 0.3647\n",
      "Epoch 31/40\n",
      "3260/3260 [==============================] - 4s 1ms/step - loss: 0.4672 - accuracy: 0.8548 - val_loss: 5.4261 - val_accuracy: 0.3613\n",
      "Epoch 32/40\n",
      "3260/3260 [==============================] - 3s 1ms/step - loss: 0.4431 - accuracy: 0.8623 - val_loss: 5.6419 - val_accuracy: 0.3732\n",
      "Epoch 33/40\n",
      "3260/3260 [==============================] - 3s 1ms/step - loss: 0.4275 - accuracy: 0.8689 - val_loss: 5.8172 - val_accuracy: 0.3621\n",
      "Epoch 34/40\n",
      "3260/3260 [==============================] - 3s 1ms/step - loss: 0.4078 - accuracy: 0.8716 - val_loss: 6.0512 - val_accuracy: 0.3523\n",
      "Epoch 35/40\n",
      "3260/3260 [==============================] - 3s 1ms/step - loss: 0.3943 - accuracy: 0.8798 - val_loss: 6.2378 - val_accuracy: 0.3673\n",
      "Epoch 36/40\n",
      "3260/3260 [==============================] - 3s 1ms/step - loss: 0.3793 - accuracy: 0.8834 - val_loss: 6.5145 - val_accuracy: 0.3672\n",
      "Epoch 37/40\n",
      "3260/3260 [==============================] - 3s 1ms/step - loss: 0.3670 - accuracy: 0.8863 - val_loss: 6.6494 - val_accuracy: 0.3670\n",
      "Epoch 38/40\n",
      "3260/3260 [==============================] - 3s 1ms/step - loss: 0.3572 - accuracy: 0.8899 - val_loss: 6.8498 - val_accuracy: 0.3550\n",
      "Epoch 39/40\n",
      "3260/3260 [==============================] - 3s 1ms/step - loss: 0.3434 - accuracy: 0.8946 - val_loss: 6.9986 - val_accuracy: 0.3587\n",
      "Epoch 40/40\n",
      "3260/3260 [==============================] - 3s 1ms/step - loss: 0.3337 - accuracy: 0.8974 - val_loss: 7.0667 - val_accuracy: 0.3566\n"
     ]
    }
   ],
   "source": [
    "hist = model.fit(X_train_scaled_abs, y_train_enc, \n",
    "                 epochs=40,\n",
    "                 batch_size=10, \n",
    "                 validation_split=0.2)"
   ]
  },
  {
   "cell_type": "code",
   "execution_count": 11,
   "id": "1aed7a30-6206-44f6-97a3-01770fa1231d",
   "metadata": {},
   "outputs": [
    {
     "name": "stdout",
     "output_type": "stream",
     "text": [
      "Model: \"sequential\"\n",
      "_________________________________________________________________\n",
      "Layer (type)                 Output Shape              Param #   \n",
      "=================================================================\n",
      "dense (Dense)                multiple                  79242     \n",
      "_________________________________________________________________\n",
      "dense_1 (Dense)              multiple                  1128      \n",
      "_________________________________________________________________\n",
      "dense_2 (Dense)              multiple                  130       \n",
      "=================================================================\n",
      "Total params: 80,500\n",
      "Trainable params: 80,500\n",
      "Non-trainable params: 0\n",
      "_________________________________________________________________\n"
     ]
    }
   ],
   "source": [
    "model.summary()"
   ]
  },
  {
   "cell_type": "code",
   "execution_count": 12,
   "id": "744743f1-f067-4e8a-b4c4-702a64c581d6",
   "metadata": {},
   "outputs": [
    {
     "name": "stdout",
     "output_type": "stream",
     "text": [
      "1274/1274 [==============================] - 1s 704us/step - loss: 1.6472 - accuracy: 0.8018\n",
      "Train loss: 1.647173285484314\n",
      "Train accuracy: 0.8017867803573608\n"
     ]
    }
   ],
   "source": [
    "# Evaluating the model's performance on the train set\n",
    "score = model.evaluate(X_train_scaled_abs, y_train_enc, verbose=1)\n",
    "\n",
    "print('Train loss:', score[0]) \n",
    "print('Train accuracy:', score[1]) "
   ]
  },
  {
   "cell_type": "code",
   "execution_count": 13,
   "id": "21586476-0ef7-44e0-9f8a-28e0143549be",
   "metadata": {},
   "outputs": [
    {
     "name": "stdout",
     "output_type": "stream",
     "text": [
      "319/319 [==============================] - 0s 737us/step - loss: 7.1006 - accuracy: 0.3643\n",
      "Test loss: 7.100551605224609\n",
      "Test accuracy: 0.3642878234386444\n"
     ]
    }
   ],
   "source": [
    "# Evaluating the model's performance on the test set\n",
    "\n",
    "score = model.evaluate(X_test_scaled_abs, y_test_enc, verbose=1)\n",
    "\n",
    "print('Test loss:', score[0]) \n",
    "print('Test accuracy:', score[1]) "
   ]
  },
  {
   "cell_type": "markdown",
   "id": "fd4f1797-f615-47c2-aa56-3b3c3ab2cdb8",
   "metadata": {},
   "source": [
    "Here, using a simple architecture for a network yeilded a testing accuracy of 38%, however, for training, the accuracy was 71%. There is a lot of overfitting here!\n",
    "\n",
    "I will now try to make a better performing Neural Network."
   ]
  },
  {
   "cell_type": "markdown",
   "id": "e40bae45-50b3-4630-869d-cf8fbc598ccc",
   "metadata": {
    "tags": []
   },
   "source": [
    "### RNN Model"
   ]
  },
  {
   "cell_type": "code",
   "execution_count": 14,
   "id": "74baab16-32d8-4d86-b5e0-efedcfc5be29",
   "metadata": {},
   "outputs": [
    {
     "data": {
      "text/html": [
       "<div>\n",
       "<style scoped>\n",
       "    .dataframe tbody tr th:only-of-type {\n",
       "        vertical-align: middle;\n",
       "    }\n",
       "\n",
       "    .dataframe tbody tr th {\n",
       "        vertical-align: top;\n",
       "    }\n",
       "\n",
       "    .dataframe thead th {\n",
       "        text-align: right;\n",
       "    }\n",
       "</style>\n",
       "<table border=\"1\" class=\"dataframe\">\n",
       "  <thead>\n",
       "    <tr style=\"text-align: right;\">\n",
       "      <th></th>\n",
       "      <th>Title</th>\n",
       "      <th>Genre</th>\n",
       "      <th>Description</th>\n",
       "      <th>Year</th>\n",
       "    </tr>\n",
       "  </thead>\n",
       "  <tbody>\n",
       "    <tr>\n",
       "      <th>0</th>\n",
       "      <td>Oscar et la dame rose (2009)</td>\n",
       "      <td>drama</td>\n",
       "      <td>listening in to a conversation between his doc...</td>\n",
       "      <td>2009</td>\n",
       "    </tr>\n",
       "    <tr>\n",
       "      <th>1</th>\n",
       "      <td>Cupid (1997)</td>\n",
       "      <td>thriller</td>\n",
       "      <td>a brother and sister with a past incestuous re...</td>\n",
       "      <td>1997</td>\n",
       "    </tr>\n",
       "    <tr>\n",
       "      <th>2</th>\n",
       "      <td>The Secret Sin (1915)</td>\n",
       "      <td>drama</td>\n",
       "      <td>to help their unemployed father make ends meet...</td>\n",
       "      <td>1915</td>\n",
       "    </tr>\n",
       "    <tr>\n",
       "      <th>3</th>\n",
       "      <td>The Unrecovered (2007)</td>\n",
       "      <td>drama</td>\n",
       "      <td>the film s title refers not only to the un rec...</td>\n",
       "      <td>2007</td>\n",
       "    </tr>\n",
       "    <tr>\n",
       "      <th>4</th>\n",
       "      <td>Quality Control (2011)</td>\n",
       "      <td>documentary</td>\n",
       "      <td>quality control consists of a series of mm sin...</td>\n",
       "      <td>2011</td>\n",
       "    </tr>\n",
       "  </tbody>\n",
       "</table>\n",
       "</div>"
      ],
      "text/plain": [
       "                            Title        Genre  \\\n",
       "0   Oscar et la dame rose (2009)         drama   \n",
       "1                   Cupid (1997)      thriller   \n",
       "2          The Secret Sin (1915)         drama   \n",
       "3         The Unrecovered (2007)         drama   \n",
       "4         Quality Control (2011)   documentary   \n",
       "\n",
       "                                         Description  Year  \n",
       "0  listening in to a conversation between his doc...  2009  \n",
       "1  a brother and sister with a past incestuous re...  1997  \n",
       "2  to help their unemployed father make ends meet...  1915  \n",
       "3  the film s title refers not only to the un rec...  2007  \n",
       "4  quality control consists of a series of mm sin...  2011  "
      ]
     },
     "execution_count": 14,
     "metadata": {},
     "output_type": "execute_result"
    }
   ],
   "source": [
    "df.head()"
   ]
  },
  {
   "cell_type": "code",
   "execution_count": 40,
   "id": "ed00055f-d1a2-49f4-b673-0bcf1e1064cb",
   "metadata": {},
   "outputs": [],
   "source": [
    "# Setting up the Baseline RNN model"
   ]
  },
  {
   "cell_type": "code",
   "execution_count": 36,
   "id": "3bc1fe89-e325-4a62-b3a2-a4f00fc0860f",
   "metadata": {},
   "outputs": [
    {
     "name": "stderr",
     "output_type": "stream",
     "text": [
      "/var/folders/mw/w5y8whxj0919pq__lh725wz80000gn/T/ipykernel_8030/3185379619.py:1: FutureWarning: The default value of regex will change from True to False in a future version.\n",
      "  df[\"Description\"] = df[\"Description\"].str.replace(r\"[^a-zA-Z]\", \" \").str.replace(r\"\\s+\", \" \")\n"
     ]
    }
   ],
   "source": [
    "df[\"Description\"] = df[\"Description\"].str.replace(r\"[^a-zA-Z]\", \" \").str.replace(r\"\\s+\", \" \")\n",
    "\n"
   ]
  },
  {
   "cell_type": "code",
   "execution_count": 37,
   "id": "8f13df0a-1019-4599-a1de-98ccd9f31db2",
   "metadata": {},
   "outputs": [],
   "source": [
    "tokenizer = Tokenizer(char_level=True, lower=True)\n",
    "tokenizer.fit_on_texts(df[\"Description\"])"
   ]
  },
  {
   "cell_type": "code",
   "execution_count": 38,
   "id": "8e82ff6a-1c87-4aab-9c20-c77251994cd0",
   "metadata": {},
   "outputs": [],
   "source": [
    "char_to_number = tokenizer.word_index\n",
    "number_to_char = tokenizer.index_word\n",
    "\n",
    "all_chars = list(char_to_number.keys())"
   ]
  },
  {
   "cell_type": "code",
   "execution_count": 39,
   "id": "be5d3880-aa49-40e6-abf2-52b1afe27508",
   "metadata": {},
   "outputs": [
    {
     "data": {
      "image/png": "[encoded data removed]",
      "text/plain": [
       "<Figure size 432x288 with 1 Axes>"
      ]
     },
     "metadata": {
      "needs_background": "light"
     },
     "output_type": "display_data"
    }
   ],
   "source": [
    "character_frequency = pd.DataFrame(data=tokenizer.word_counts.items(), columns=[\"character\", \"count\"])\n",
    "character_frequency = character_frequency.sort_values(\"count\", ascending=False)\n",
    "\n",
    "character_frequency.set_index(\"character\").plot(kind=\"bar\", rot=0, title=\"Character count\");"
   ]
  },
  {
   "cell_type": "code",
   "execution_count": 41,
   "id": "7a26ee70-02e8-4504-8bca-ce3e2c26bdbc",
   "metadata": {},
   "outputs": [],
   "source": [
    "# Vectorize\n",
    "dataset = tokenizer.texts_to_sequences(df['Description'])\n"
   ]
  },
  {
   "cell_type": "code",
   "execution_count": 42,
   "id": "6dce8eb6-3717-47b4-89ca-d3a366b8e15f",
   "metadata": {},
   "outputs": [
    {
     "name": "stdout",
     "output_type": "stream",
     "text": [
      "(29406464, 10)\n",
      "(29406464,)\n"
     ]
    }
   ],
   "source": [
    "# sliding window\n",
    "SEQUENCE_LENGTH = 10\n",
    "\n",
    "X = []\n",
    "y = []\n",
    "\n",
    "for description in dataset:\n",
    "    for window_start_idx in range(len(description)-SEQUENCE_LENGTH):\n",
    "        window_end_idx = window_start_idx + SEQUENCE_LENGTH\n",
    "        X.append(description[window_start_idx: window_end_idx])\n",
    "        y.append(description[window_end_idx])\n",
    "\n",
    "X = np.array(X)\n",
    "y = np.array(y)\n",
    "\n",
    "# Let's look at the shapes\n",
    "print(X.shape)\n",
    "print(y.shape)"
   ]
  },
  {
   "cell_type": "code",
   "execution_count": 43,
   "id": "c2880125-2df8-4783-b3aa-b5caedfe3dd7",
   "metadata": {},
   "outputs": [],
   "source": [
    "# Train and validation sets\n",
    "\n",
    "X_train, X_validation, y_train, y_validation = train_test_split(X, y, test_size=0.1)"
   ]
  },
  {
   "cell_type": "code",
   "execution_count": 44,
   "id": "42305a47-57da-43da-80ab-93df01b5111a",
   "metadata": {},
   "outputs": [
    {
     "name": "stdout",
     "output_type": "stream",
     "text": [
      "(26465817, 10) (26465817,)\n",
      "(2940647, 10) (2940647,)\n"
     ]
    }
   ],
   "source": [
    "print(X_train.shape, y_train.shape)      \n",
    "print(X_validation.shape, y_validation.shape)"
   ]
  },
  {
   "cell_type": "code",
   "execution_count": 45,
   "id": "02ffe038-42f1-4dae-808a-c5877887de85",
   "metadata": {},
   "outputs": [],
   "source": [
    "number_of_classes = len(all_chars) + 1\n",
    "embedding_dim = 8\n",
    "\n",
    "# initilize an embedding layer\n",
    "embedding_layer = Embedding(number_of_classes, embedding_dim) "
   ]
  },
  {
   "cell_type": "code",
   "execution_count": 46,
   "id": "5912b6bc-4086-460a-a3b6-a55e664f0237",
   "metadata": {},
   "outputs": [
    {
     "data": {
      "text/plain": [
       "array([[-0.04550448, -0.03584671, -0.03645253, -0.03535572,  0.03311417,\n",
       "         0.04337103, -0.00023894, -0.00072122],\n",
       "       [ 0.04892724,  0.00264455,  0.03746296, -0.02446673, -0.02706027,\n",
       "         0.00377048, -0.03592157,  0.01551938],\n",
       "       [ 0.03514596, -0.03724973, -0.04552927,  0.00572593,  0.00162525,\n",
       "         0.00852837, -0.04055523, -0.0209917 ],\n",
       "       [ 0.00646526, -0.009331  ,  0.02186406,  0.03330076, -0.0392372 ,\n",
       "        -0.0371237 , -0.03502705, -0.02077618],\n",
       "       [-0.02636011, -0.02095571,  0.03961502, -0.01319546,  0.01758918,\n",
       "        -0.01163795, -0.04348829, -0.01232602],\n",
       "       [-0.02790602, -0.02237738, -0.01521696, -0.04091065,  0.01872801,\n",
       "        -0.01529165, -0.0431154 ,  0.0290995 ],\n",
       "       [ 0.04892724,  0.00264455,  0.03746296, -0.02446673, -0.02706027,\n",
       "         0.00377048, -0.03592157,  0.01551938],\n",
       "       [-0.02790602, -0.02237738, -0.01521696, -0.04091065,  0.01872801,\n",
       "        -0.01529165, -0.0431154 ,  0.0290995 ],\n",
       "       [ 0.0056073 , -0.04782025,  0.04283476, -0.02852386, -0.03264944,\n",
       "         0.00093118, -0.04160726, -0.00065824],\n",
       "       [ 0.03992872, -0.02364932,  0.03574857,  0.04727563,  0.01465755,\n",
       "        -0.00443085,  0.03523748,  0.02076087]], dtype=float32)"
      ]
     },
     "execution_count": 46,
     "metadata": {},
     "output_type": "execute_result"
    }
   ],
   "source": [
    "one_window = X[0] # shape: (10) \n",
    "\n",
    "embedding_layer(one_window).numpy() # shape: (10, embedding_dim)"
   ]
  },
  {
   "cell_type": "code",
   "execution_count": 47,
   "id": "40d14069-acaa-4fcc-be5e-01c44e642f7d",
   "metadata": {},
   "outputs": [],
   "source": [
    "all_embeddings = embedding_layer(np.arange(number_of_classes))\n",
    "\n",
    "pca = PCA(n_components=2)\n",
    "\n",
    "all_embeddings_2d = pca.fit_transform(all_embeddings)"
   ]
  },
  {
   "cell_type": "code",
   "execution_count": 48,
   "id": "8eb0eb47-8e09-49c1-85be-26709c9cd05a",
   "metadata": {},
   "outputs": [
    {
     "data": {
      "image/png": "[encoded data removed]",
      "text/plain": [
       "<Figure size 720x720 with 1 Axes>"
      ]
     },
     "metadata": {
      "needs_background": "light"
     },
     "output_type": "display_data"
    }
   ],
   "source": [
    "plt.figure(figsize=(10, 10))\n",
    "\n",
    "# plot the PCA components\n",
    "plt.scatter(all_embeddings_2d[:, 0], all_embeddings_2d[:, 1], alpha=0.1)\n",
    "\n",
    "# add characters to the plot\n",
    "for num, char in number_to_char.items():\n",
    "    plt.text(all_embeddings_2d[num, 0], all_embeddings_2d[num, 1], char, fontsize=14)\n",
    "\n",
    "plt.title(\"Untrained character embeddings after PCA\")\n",
    "plt.show()"
   ]
  },
  {
   "cell_type": "markdown",
   "id": "0b5691ce-9f35-4bea-8b61-ae88eaf90797",
   "metadata": {},
   "source": [
    "### Single Layer RNN"
   ]
  },
  {
   "cell_type": "code",
   "execution_count": 50,
   "id": "dfbd9b76-21bc-4c34-868a-8b024e23fb0f",
   "metadata": {},
   "outputs": [],
   "source": [
    "RNN_charlevel = keras.Sequential()\n",
    "RNN_charlevel.add(Embedding(number_of_classes, 8))\n",
    "\n",
    "RNN_charlevel.add(LSTM(128, activation='relu', return_sequences=False))\n",
    "RNN_charlevel.add(BatchNormalization())\n",
    "\n",
    "RNN_charlevel.add(Dense(64, activation='relu'))\n",
    "RNN_charlevel.add(BatchNormalization())\n",
    "\n",
    "RNN_charlevel.add(Dense(number_of_classes, activation='softmax'))"
   ]
  },
  {
   "cell_type": "code",
   "execution_count": 51,
   "id": "e2a66727-70ce-4f46-a16c-f7606f019cc3",
   "metadata": {},
   "outputs": [],
   "source": [
    "# Compile model\n",
    "RNN_charlevel.compile(\n",
    "    loss='sparse_categorical_crossentropy',\n",
    "    optimizer=Adam(lr=0.001),\n",
    "    metrics=['accuracy']\n",
    ")"
   ]
  },
  {
   "cell_type": "code",
   "execution_count": 52,
   "id": "a955a82d-22fe-4faf-b369-86d6349564d2",
   "metadata": {},
   "outputs": [
    {
     "name": "stdout",
     "output_type": "stream",
     "text": [
      "Model: \"sequential_5\"\n",
      "_________________________________________________________________\n",
      "Layer (type)                 Output Shape              Param #   \n",
      "=================================================================\n",
      "embedding_5 (Embedding)      (None, None, 8)           224       \n",
      "_________________________________________________________________\n",
      "lstm_3 (LSTM)                (None, 128)               70144     \n",
      "_________________________________________________________________\n",
      "batch_normalization (BatchNo (None, 128)               512       \n",
      "_________________________________________________________________\n",
      "dense_6 (Dense)              (None, 64)                8256      \n",
      "_________________________________________________________________\n",
      "batch_normalization_1 (Batch (None, 64)                256       \n",
      "_________________________________________________________________\n",
      "dense_7 (Dense)              (None, 28)                1820      \n",
      "=================================================================\n",
      "Total params: 81,212\n",
      "Trainable params: 80,828\n",
      "Non-trainable params: 384\n",
      "_________________________________________________________________\n"
     ]
    }
   ],
   "source": [
    "RNN_charlevel.summary()"
   ]
  },
  {
   "cell_type": "code",
   "execution_count": 54,
   "id": "0d2d6ad4-926c-456d-b1e1-14fd8bb72d72",
   "metadata": {},
   "outputs": [
    {
     "name": "stdout",
     "output_type": "stream",
     "text": [
      "Epoch 1/5\n",
      "25846/25846 [==============================] - 3988s 154ms/step - loss: 1.6371 - accuracy: 0.4973 - val_loss: 1.5116 - val_accuracy: 0.5343\n",
      "Epoch 2/5\n",
      "25846/25846 [==============================] - 1943s 75ms/step - loss: 1.4695 - accuracy: 0.5464 - val_loss: 1.4419 - val_accuracy: 0.5539\n",
      "Epoch 3/5\n",
      "25846/25846 [==============================] - 2044s 79ms/step - loss: 1.4243 - accuracy: 0.5590 - val_loss: 1.4085 - val_accuracy: 0.5644\n",
      "Epoch 4/5\n",
      "25846/25846 [==============================] - 2184s 84ms/step - loss: 1.4013 - accuracy: 0.5653 - val_loss: 1.3897 - val_accuracy: 0.5689\n",
      "Epoch 5/5\n",
      "25846/25846 [==============================] - 2290s 89ms/step - loss: 1.3869 - accuracy: 0.5694 - val_loss: 1.3817 - val_accuracy: 0.5710\n"
     ]
    }
   ],
   "source": [
    "history = RNN_charlevel.fit(X_train, y_train,\n",
    "        batch_size=1024,\n",
    "        epochs=5,\n",
    "        validation_data=(X_validation, y_validation))\n",
    "# NOTE: THIS TOOK 3 HOURS TO RUN"
   ]
  },
  {
   "cell_type": "code",
   "execution_count": 59,
   "id": "93a906ae-af6f-4ecd-839c-d6aeebdc1c99",
   "metadata": {},
   "outputs": [
    {
     "data": {
      "image/png": "[encoded data removed]",
      "text/plain": [
       "<Figure size 1080x360 with 2 Axes>"
      ]
     },
     "metadata": {
      "needs_background": "light"
     },
     "output_type": "display_data"
    }
   ],
   "source": [
    "epochs = range(1, 6)\n",
    "\n",
    "plt.figure(figsize=(15, 5))\n",
    "plt.subplot(1, 2, 1)\n",
    "plt.plot(epochs, history.history[\"accuracy\"], label=\"training\", marker=\"o\")\n",
    "plt.plot(epochs, history.history[\"val_accuracy\"], label=\"validation\", marker=\"o\")\n",
    "plt.xlabel(\"Epochs\")\n",
    "plt.xticks(epochs)\n",
    "plt.ylabel(\"Accuracy\")\n",
    "plt.legend()\n",
    "\n",
    "plt.subplot(1, 2, 2)\n",
    "plt.plot(epochs, history.history[\"loss\"], label=\"training\", marker=\"o\")\n",
    "plt.plot(epochs, history.history[\"val_loss\"], label=\"validation\", marker=\"o\")\n",
    "plt.xlabel(\"Epochs\")\n",
    "plt.xticks(epochs)\n",
    "plt.ylabel(\"Loss\")\n",
    "plt.legend()\n",
    "plt.show()"
   ]
  },
  {
   "cell_type": "code",
   "execution_count": null,
   "id": "343b3af4-25ea-4b28-a5cc-9ec0bf452210",
   "metadata": {},
   "outputs": [],
   "source": []
  },
  {
   "cell_type": "code",
   "execution_count": null,
   "id": "6b5352db-12c7-4ecc-b1c3-7e39ab612030",
   "metadata": {},
   "outputs": [],
   "source": []
  },
  {
   "cell_type": "code",
   "execution_count": null,
   "id": "04854c51-66f9-4250-b905-766c5c7ae341",
   "metadata": {},
   "outputs": [],
   "source": []
  },
  {
   "cell_type": "code",
   "execution_count": null,
   "id": "59883b67-543a-4419-885b-10d3cbbbb3b6",
   "metadata": {},
   "outputs": [],
   "source": []
  },
  {
   "cell_type": "code",
   "execution_count": 15,
   "id": "b18bf9f0-b7f9-4b23-8a76-148b49d87e07",
   "metadata": {},
   "outputs": [
    {
     "name": "stdout",
     "output_type": "stream",
     "text": [
      "Found 115243 unique tokens.\n"
     ]
    }
   ],
   "source": [
    "# The maximum number of words to be used. (most frequent)\n",
    "MAX_NB_WORDS = 50000\n",
    "# Max number of words in each movie description.\n",
    "MAX_SEQUENCE_LENGTH = 250\n",
    "\n",
    "\n",
    "EMBEDDING_DIM = 100\n",
    "tokenizer = Tokenizer(num_words=MAX_NB_WORDS, filters='!\"#$%&()*+,-./:;<=>?@[\\]^_`{|}~', lower=True)\n",
    "tokenizer.fit_on_texts(df['Description'].values)\n",
    "word_index = tokenizer.word_index\n",
    "print('Found %s unique tokens.' % len(word_index))"
   ]
  },
  {
   "cell_type": "markdown",
   "id": "95415d8a-7499-4745-85bd-462514988f57",
   "metadata": {},
   "source": [
    "Now I will pad the input sequences so that they're the same length for the modeling process."
   ]
  },
  {
   "cell_type": "code",
   "execution_count": 16,
   "id": "07cafcd5-ce52-4b0e-930e-b854a71a1294",
   "metadata": {},
   "outputs": [
    {
     "name": "stdout",
     "output_type": "stream",
     "text": [
      "Shape of data tensor: (50931, 250)\n"
     ]
    }
   ],
   "source": [
    "X = tokenizer.texts_to_sequences(df['Description'].values)\n",
    "X = pad_sequences(X, maxlen=MAX_SEQUENCE_LENGTH)\n",
    "print('Shape of data tensor:', X.shape)"
   ]
  },
  {
   "cell_type": "markdown",
   "id": "f9af23c6-dd71-4ebc-9b8e-94dabb3b06d8",
   "metadata": {},
   "source": [
    "Now I will convert the categorical labels to numbers."
   ]
  },
  {
   "cell_type": "code",
   "execution_count": 17,
   "id": "31548b6f-a1cb-4a45-9d15-5432214062c0",
   "metadata": {},
   "outputs": [
    {
     "name": "stdout",
     "output_type": "stream",
     "text": [
      "Shape of label tensor: (50931, 26)\n"
     ]
    }
   ],
   "source": [
    "y = pd.get_dummies(df['Genre']).values\n",
    "print('Shape of label tensor:', y.shape)"
   ]
  },
  {
   "cell_type": "markdown",
   "id": "5b7144ca-8db6-44cd-ab3c-eb518a458b28",
   "metadata": {},
   "source": [
    "Now I will split the data into training and testing."
   ]
  },
  {
   "cell_type": "code",
   "execution_count": 19,
   "id": "dca81af1-472e-412f-b42d-ae84a21fee5e",
   "metadata": {},
   "outputs": [
    {
     "name": "stdout",
     "output_type": "stream",
     "text": [
      "Training shapes:  (40744, 250) (40744, 26)\n",
      "Testing shapes: (10187, 250) (10187, 26)\n"
     ]
    }
   ],
   "source": [
    "X_train, X_test, y_train, y_test = train_test_split(X, y, test_size = 0.20, random_state = 42)\n",
    "print('Training shapes: ', X_train.shape,y_train.shape)\n",
    "print('Testing shapes:', X_test.shape,y_test.shape)"
   ]
  },
  {
   "cell_type": "markdown",
   "id": "d1c63f88-7b82-4daf-a262-40d1d177601f",
   "metadata": {},
   "source": [
    "Below, the output layer must create 26 output values because there are 26 classes."
   ]
  },
  {
   "cell_type": "code",
   "execution_count": 26,
   "id": "bacedbda-c088-4601-be9b-177a0cd06609",
   "metadata": {},
   "outputs": [
    {
     "name": "stdout",
     "output_type": "stream",
     "text": [
      "Epoch 1/5\n",
      "573/573 [==============================] - 226s 394ms/step - loss: 2.1227 - accuracy: 0.3788 - val_loss: 1.8571 - val_accuracy: 0.4746\n",
      "Epoch 2/5\n",
      "573/573 [==============================] - 231s 403ms/step - loss: 1.6897 - accuracy: 0.5133 - val_loss: 1.6604 - val_accuracy: 0.5256\n",
      "Epoch 3/5\n",
      "573/573 [==============================] - 231s 403ms/step - loss: 1.3626 - accuracy: 0.6075 - val_loss: 1.6329 - val_accuracy: 0.5340\n",
      "Epoch 4/5\n",
      "573/573 [==============================] - 229s 400ms/step - loss: 1.0974 - accuracy: 0.6874 - val_loss: 1.7008 - val_accuracy: 0.5360\n",
      "Epoch 5/5\n",
      "573/573 [==============================] - 236s 412ms/step - loss: 0.8749 - accuracy: 0.7489 - val_loss: 1.8032 - val_accuracy: 0.5173\n"
     ]
    }
   ],
   "source": [
    "model = keras.Sequential()\n",
    "model.add(Embedding(MAX_NB_WORDS, EMBEDDING_DIM, input_length=X.shape[1]))\n",
    "model.add(SpatialDropout1D(0.2))\n",
    "model.add(LSTM(100, dropout=0.2, recurrent_dropout=0.2))\n",
    "model.add(Dense(26, activation='softmax'))\n",
    "model.compile(loss='categorical_crossentropy', optimizer='adam', metrics=['accuracy'])\n",
    "\n",
    "epochs = 5\n",
    "batch_size = 64\n",
    "\n",
    "history = model.fit(X_train, y_train, \n",
    "                    epochs=epochs,\n",
    "                    batch_size=batch_size,\n",
    "                    validation_split=0.1,\n",
    "                    callbacks=[EarlyStopping(monitor='val_loss', patience=3, min_delta=0.0001)])"
   ]
  },
  {
   "cell_type": "code",
   "execution_count": 28,
   "id": "f61217a9-97ce-46e3-a327-ca41300d69de",
   "metadata": {},
   "outputs": [
    {
     "name": "stdout",
     "output_type": "stream",
     "text": [
      "Model: \"sequential_4\"\n",
      "_________________________________________________________________\n",
      "Layer (type)                 Output Shape              Param #   \n",
      "=================================================================\n",
      "embedding_3 (Embedding)      (None, 250, 100)          5000000   \n",
      "_________________________________________________________________\n",
      "spatial_dropout1d_2 (Spatial (None, 250, 100)          0         \n",
      "_________________________________________________________________\n",
      "lstm_2 (LSTM)                (None, 100)               80400     \n",
      "_________________________________________________________________\n",
      "dense_5 (Dense)              (None, 26)                2626      \n",
      "=================================================================\n",
      "Total params: 5,083,026\n",
      "Trainable params: 5,083,026\n",
      "Non-trainable params: 0\n",
      "_________________________________________________________________\n"
     ]
    }
   ],
   "source": [
    "model.summary()"
   ]
  },
  {
   "cell_type": "code",
   "execution_count": null,
   "id": "34036125-0870-465d-8fff-b6973e6bab91",
   "metadata": {},
   "outputs": [],
   "source": []
  },
  {
   "cell_type": "code",
   "execution_count": null,
   "id": "5682838a-7a88-4567-b2e2-639bc1e6f70b",
   "metadata": {},
   "outputs": [],
   "source": []
  },
  {
   "cell_type": "code",
   "execution_count": null,
   "id": "11314a04-f1ea-439d-b327-2dc569a05d0e",
   "metadata": {},
   "outputs": [],
   "source": []
  },
  {
   "cell_type": "code",
   "execution_count": null,
   "id": "23694719-6341-4cba-8dfd-d10119b14b54",
   "metadata": {},
   "outputs": [],
   "source": []
  },
  {
   "cell_type": "code",
   "execution_count": null,
   "id": "59a60b6e-5f61-45f5-b454-33a2f1058139",
   "metadata": {},
   "outputs": [],
   "source": []
  },
  {
   "cell_type": "code",
   "execution_count": null,
   "id": "29abfee6-85b2-415b-a58c-80bc3777f96a",
   "metadata": {},
   "outputs": [],
   "source": []
  },
  {
   "cell_type": "code",
   "execution_count": null,
   "id": "f9471fbb-23ff-419b-a67d-cd035be1ac14",
   "metadata": {},
   "outputs": [],
   "source": []
  },
  {
   "cell_type": "code",
   "execution_count": null,
   "id": "ce98457e-2018-4803-83d3-16f9eeaa79c1",
   "metadata": {},
   "outputs": [],
   "source": []
  },
  {
   "cell_type": "code",
   "execution_count": null,
   "id": "d7bebfe8-cfa2-407c-bf09-e4e003aab24a",
   "metadata": {},
   "outputs": [],
   "source": []
  },
  {
   "cell_type": "code",
   "execution_count": null,
   "id": "e15fbe3c-b6c4-434a-ada6-6832765ed4aa",
   "metadata": {},
   "outputs": [],
   "source": []
  },
  {
   "cell_type": "code",
   "execution_count": null,
   "id": "875b13b2-a0ac-499b-991b-eae05d228549",
   "metadata": {},
   "outputs": [],
   "source": []
  },
  {
   "cell_type": "code",
   "execution_count": null,
   "id": "40000207-17b2-49af-b328-a6903d9f0ef3",
   "metadata": {},
   "outputs": [],
   "source": []
  },
  {
   "cell_type": "code",
   "execution_count": null,
   "id": "284aefc1-a267-4c43-9bf1-926428736fa9",
   "metadata": {},
   "outputs": [],
   "source": []
  },
  {
   "cell_type": "code",
   "execution_count": null,
   "id": "d0ef5f77-c057-4f63-9103-d8792f0a2864",
   "metadata": {},
   "outputs": [],
   "source": []
  },
  {
   "cell_type": "code",
   "execution_count": null,
   "id": "458021a8-878c-46ce-88bb-8e1f04193111",
   "metadata": {},
   "outputs": [],
   "source": []
  },
  {
   "cell_type": "code",
   "execution_count": null,
   "id": "3a2fae08-a9e4-4c24-ac4e-0ccfcff9d9b8",
   "metadata": {},
   "outputs": [],
   "source": []
  },
  {
   "cell_type": "code",
   "execution_count": null,
   "id": "0d89d7ce-cc89-4e95-aed3-bb07b8184239",
   "metadata": {},
   "outputs": [],
   "source": []
  },
  {
   "cell_type": "code",
   "execution_count": null,
   "id": "607c5ec7-198d-4a84-abd3-2b9a97489f49",
   "metadata": {},
   "outputs": [],
   "source": []
  },
  {
   "cell_type": "code",
   "execution_count": null,
   "id": "d4ef1dc6-30f2-4e79-ad24-aeac986a7eab",
   "metadata": {},
   "outputs": [],
   "source": []
  },
  {
   "cell_type": "code",
   "execution_count": null,
   "id": "0b4459a4-2948-4e5d-ae30-3bf3572c1587",
   "metadata": {},
   "outputs": [],
   "source": []
  },
  {
   "cell_type": "code",
   "execution_count": null,
   "id": "7a2789cf-18de-4191-bfbb-7271c370ab0b",
   "metadata": {},
   "outputs": [],
   "source": []
  },
  {
   "cell_type": "code",
   "execution_count": null,
   "id": "4b174ede-b3a2-4253-baab-93c68529e710",
   "metadata": {},
   "outputs": [],
   "source": []
  },
  {
   "cell_type": "code",
   "execution_count": null,
   "id": "91639625-fd18-4fdb-826e-8730921acec2",
   "metadata": {},
   "outputs": [],
   "source": []
  },
  {
   "cell_type": "code",
   "execution_count": null,
   "id": "3317674f-eff4-460a-82b8-8fdcaeefa8bd",
   "metadata": {},
   "outputs": [],
   "source": []
  },
  {
   "cell_type": "code",
   "execution_count": null,
   "id": "6d02b2b1-6974-4c55-b927-abb40fdd86b1",
   "metadata": {},
   "outputs": [],
   "source": []
  },
  {
   "cell_type": "code",
   "execution_count": null,
   "id": "9bfe8acc-194d-4b4c-b513-acf83fb921af",
   "metadata": {},
   "outputs": [],
   "source": []
  },
  {
   "cell_type": "code",
   "execution_count": null,
   "id": "30b26f16-238b-4d9a-939e-938ef2af1074",
   "metadata": {},
   "outputs": [],
   "source": []
  },
  {
   "cell_type": "code",
   "execution_count": null,
   "id": "3552d6ac-0946-4f20-9ac3-224b61b31881",
   "metadata": {},
   "outputs": [],
   "source": []
  },
  {
   "cell_type": "code",
   "execution_count": null,
   "id": "d256a480-f5e3-4325-993b-3f4fa16f8440",
   "metadata": {},
   "outputs": [],
   "source": []
  },
  {
   "cell_type": "code",
   "execution_count": null,
   "id": "2b6c43ea-2010-4936-b021-cb394efd7845",
   "metadata": {},
   "outputs": [],
   "source": []
  },
  {
   "cell_type": "code",
   "execution_count": null,
   "id": "fbd12c9e-4843-4c79-84d3-9398c1c97824",
   "metadata": {},
   "outputs": [],
   "source": []
  },
  {
   "cell_type": "code",
   "execution_count": null,
   "id": "064fb1f2-a2ba-420d-aa7c-33d95f20f6a2",
   "metadata": {},
   "outputs": [],
   "source": []
  },
  {
   "cell_type": "code",
   "execution_count": null,
   "id": "66e9a580-286e-4bad-aa2d-36a82f0cfa13",
   "metadata": {},
   "outputs": [],
   "source": []
  },
  {
   "cell_type": "code",
   "execution_count": null,
   "id": "08dfc207-795d-4cad-9fbe-0aa784c0d652",
   "metadata": {},
   "outputs": [],
   "source": []
  },
  {
   "cell_type": "code",
   "execution_count": null,
   "id": "9986851d-1288-4597-bcbf-a768bd9093a4",
   "metadata": {},
   "outputs": [],
   "source": []
  }
 ],
 "metadata": {
  "kernelspec": {
   "display_name": "deeplearning",
   "language": "python",
   "name": "deeplearning"
  },
  "language_info": {
   "codemirror_mode": {
    "name": "ipython",
    "version": 3
   },
   "file_extension": ".py",
   "mimetype": "text/x-python",
   "name": "python",
   "nbconvert_exporter": "python",
   "pygments_lexer": "ipython3",
   "version": "3.8.2"
  }
 },
 "nbformat": 4,
 "nbformat_minor": 5
}
